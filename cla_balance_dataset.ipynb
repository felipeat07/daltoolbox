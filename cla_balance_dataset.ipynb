{
 "cells": [
  {
   "cell_type": "markdown",
   "metadata": {},
   "source": [
    "## Balancing dataset"
   ]
  },
  {
   "cell_type": "code",
   "execution_count": 1,
   "metadata": {},
   "outputs": [
    {
     "name": "stderr",
     "output_type": "stream",
     "text": [
      "Loading required package: daltoolbox\n",
      "\n",
      "Warning message:\n",
      "“replacing previous import ‘FNN::knn.cv’ by ‘class::knn.cv’ when loading ‘daltoolbox’”\n",
      "Warning message:\n",
      "“replacing previous import ‘FNN::knn’ by ‘class::knn’ when loading ‘daltoolbox’”\n",
      "Registered S3 method overwritten by 'quantmod':\n",
      "  method            from\n",
      "  as.zoo.data.frame zoo \n",
      "\n",
      "Warning message:\n",
      "“replacing previous import ‘dbscan::dbscan’ by ‘fpc::dbscan’ when loading ‘daltoolbox’”\n",
      "Warning message:\n",
      "“replacing previous import ‘dplyr::combine’ by ‘randomForest::combine’ when loading ‘daltoolbox’”\n",
      "Warning message:\n",
      "“replacing previous import ‘Matrix::cov2cor’ by ‘stats::cov2cor’ when loading ‘daltoolbox’”\n",
      "Warning message:\n",
      "“replacing previous import ‘dbscan::as.dendrogram’ by ‘stats::as.dendrogram’ when loading ‘daltoolbox’”\n",
      "Warning message:\n",
      "“replacing previous import ‘dplyr::filter’ by ‘stats::filter’ when loading ‘daltoolbox’”\n",
      "Warning message:\n",
      "“replacing previous import ‘dplyr::lag’ by ‘stats::lag’ when loading ‘daltoolbox’”\n",
      "Warning message:\n",
      "“replacing previous import ‘Matrix::toeplitz’ by ‘stats::toeplitz’ when loading ‘daltoolbox’”\n",
      "Warning message:\n",
      "“replacing previous import ‘Matrix::update’ by ‘stats::update’ when loading ‘daltoolbox’”\n",
      "\n",
      "Attaching package: ‘daltoolbox’\n",
      "\n",
      "\n",
      "The following object is masked from ‘package:stats’:\n",
      "\n",
      "    optimize\n",
      "\n",
      "\n",
      "The following objects are masked from ‘package:base’:\n",
      "\n",
      "    jitter, transform\n",
      "\n",
      "\n",
      "Loading required package: smotefamily\n",
      "\n"
     ]
    }
   ],
   "source": [
    "# DAL Library\n",
    "# version 1.0.24\n",
    "\n",
    "source(\"https://raw.githubusercontent.com/cefet-rj-dal/dal/main/examples/jupyter_daltoolbox.R\")\n",
    "\n",
    "#loading DAL\n",
    "load_daltoolbox() \n",
    "loadlibrary(\"smotefamily\")"
   ]
  },
  {
   "cell_type": "markdown",
   "metadata": {},
   "source": [
    "### Dataset for example"
   ]
  },
  {
   "cell_type": "code",
   "execution_count": 2,
   "metadata": {},
   "outputs": [
    {
     "data": {
      "text/html": [
       "<table class=\"dataframe\">\n",
       "<caption>A data.frame: 6 × 5</caption>\n",
       "<thead>\n",
       "\t<tr><th></th><th scope=col>Sepal.Length</th><th scope=col>Sepal.Width</th><th scope=col>Petal.Length</th><th scope=col>Petal.Width</th><th scope=col>Species</th></tr>\n",
       "\t<tr><th></th><th scope=col>&lt;dbl&gt;</th><th scope=col>&lt;dbl&gt;</th><th scope=col>&lt;dbl&gt;</th><th scope=col>&lt;dbl&gt;</th><th scope=col>&lt;fct&gt;</th></tr>\n",
       "</thead>\n",
       "<tbody>\n",
       "\t<tr><th scope=row>1</th><td>5.1</td><td>3.5</td><td>1.4</td><td>0.2</td><td>setosa</td></tr>\n",
       "\t<tr><th scope=row>2</th><td>4.9</td><td>3.0</td><td>1.4</td><td>0.2</td><td>setosa</td></tr>\n",
       "\t<tr><th scope=row>3</th><td>4.7</td><td>3.2</td><td>1.3</td><td>0.2</td><td>setosa</td></tr>\n",
       "\t<tr><th scope=row>4</th><td>4.6</td><td>3.1</td><td>1.5</td><td>0.2</td><td>setosa</td></tr>\n",
       "\t<tr><th scope=row>5</th><td>5.0</td><td>3.6</td><td>1.4</td><td>0.2</td><td>setosa</td></tr>\n",
       "\t<tr><th scope=row>6</th><td>5.4</td><td>3.9</td><td>1.7</td><td>0.4</td><td>setosa</td></tr>\n",
       "</tbody>\n",
       "</table>\n"
      ],
      "text/latex": [
       "A data.frame: 6 × 5\n",
       "\\begin{tabular}{r|lllll}\n",
       "  & Sepal.Length & Sepal.Width & Petal.Length & Petal.Width & Species\\\\\n",
       "  & <dbl> & <dbl> & <dbl> & <dbl> & <fct>\\\\\n",
       "\\hline\n",
       "\t1 & 5.1 & 3.5 & 1.4 & 0.2 & setosa\\\\\n",
       "\t2 & 4.9 & 3.0 & 1.4 & 0.2 & setosa\\\\\n",
       "\t3 & 4.7 & 3.2 & 1.3 & 0.2 & setosa\\\\\n",
       "\t4 & 4.6 & 3.1 & 1.5 & 0.2 & setosa\\\\\n",
       "\t5 & 5.0 & 3.6 & 1.4 & 0.2 & setosa\\\\\n",
       "\t6 & 5.4 & 3.9 & 1.7 & 0.4 & setosa\\\\\n",
       "\\end{tabular}\n"
      ],
      "text/markdown": [
       "\n",
       "A data.frame: 6 × 5\n",
       "\n",
       "| <!--/--> | Sepal.Length &lt;dbl&gt; | Sepal.Width &lt;dbl&gt; | Petal.Length &lt;dbl&gt; | Petal.Width &lt;dbl&gt; | Species &lt;fct&gt; |\n",
       "|---|---|---|---|---|---|\n",
       "| 1 | 5.1 | 3.5 | 1.4 | 0.2 | setosa |\n",
       "| 2 | 4.9 | 3.0 | 1.4 | 0.2 | setosa |\n",
       "| 3 | 4.7 | 3.2 | 1.3 | 0.2 | setosa |\n",
       "| 4 | 4.6 | 3.1 | 1.5 | 0.2 | setosa |\n",
       "| 5 | 5.0 | 3.6 | 1.4 | 0.2 | setosa |\n",
       "| 6 | 5.4 | 3.9 | 1.7 | 0.4 | setosa |\n",
       "\n"
      ],
      "text/plain": [
       "  Sepal.Length Sepal.Width Petal.Length Petal.Width Species\n",
       "1 5.1          3.5         1.4          0.2         setosa \n",
       "2 4.9          3.0         1.4          0.2         setosa \n",
       "3 4.7          3.2         1.3          0.2         setosa \n",
       "4 4.6          3.1         1.5          0.2         setosa \n",
       "5 5.0          3.6         1.4          0.2         setosa \n",
       "6 5.4          3.9         1.7          0.4         setosa "
      ]
     },
     "metadata": {},
     "output_type": "display_data"
    },
    {
     "data": {
      "text/plain": [
       "\n",
       "    setosa versicolor  virginica \n",
       "        50         50         50 "
      ]
     },
     "metadata": {},
     "output_type": "display_data"
    }
   ],
   "source": [
    "iris <- datasets::iris\n",
    "head(iris)\n",
    "table(iris$Species)"
   ]
  },
  {
   "cell_type": "markdown",
   "metadata": {},
   "source": [
    "Artificially unbalancing dataset"
   ]
  },
  {
   "cell_type": "code",
   "execution_count": 3,
   "metadata": {},
   "outputs": [
    {
     "data": {
      "text/plain": [
       "\n",
       "    setosa versicolor  virginica \n",
       "        20         50         11 "
      ]
     },
     "metadata": {},
     "output_type": "display_data"
    }
   ],
   "source": [
    "iris_data <- iris[c(1:20,51:100, 110:120),]\n",
    "table(iris_data$Species)"
   ]
  },
  {
   "cell_type": "markdown",
   "metadata": {},
   "source": [
    "### Balancing dataset\n",
    "\n",
    "General testing function to check balancing techniques. "
   ]
  },
  {
   "cell_type": "code",
   "execution_count": 4,
   "metadata": {},
   "outputs": [],
   "source": [
    "teste_balance <- function(obj, data)  {\n",
    "  print(class(obj)[1])\n",
    "  data <- transform(obj, data)\n",
    "  print(table(data$Species))\n",
    "  return(data)\n",
    "}"
   ]
  },
  {
   "cell_type": "markdown",
   "metadata": {},
   "source": [
    "### Oversampling\n"
   ]
  },
  {
   "cell_type": "code",
   "execution_count": 5,
   "metadata": {},
   "outputs": [
    {
     "name": "stdout",
     "output_type": "stream",
     "text": [
      "[1] \"balance_oversampling\"\n",
      "\n",
      "    setosa versicolor  virginica \n",
      "        40         50         44 \n"
     ]
    },
    {
     "data": {
      "text/html": [
       "<table class=\"dataframe\">\n",
       "<caption>A data.frame: 6 × 5</caption>\n",
       "<thead>\n",
       "\t<tr><th></th><th scope=col>Sepal.Length</th><th scope=col>Sepal.Width</th><th scope=col>Petal.Length</th><th scope=col>Petal.Width</th><th scope=col>Species</th></tr>\n",
       "\t<tr><th></th><th scope=col>&lt;dbl&gt;</th><th scope=col>&lt;dbl&gt;</th><th scope=col>&lt;dbl&gt;</th><th scope=col>&lt;dbl&gt;</th><th scope=col>&lt;fct&gt;</th></tr>\n",
       "</thead>\n",
       "<tbody>\n",
       "\t<tr><th scope=row>51</th><td>7.0</td><td>3.2</td><td>4.7</td><td>1.4</td><td>versicolor</td></tr>\n",
       "\t<tr><th scope=row>52</th><td>6.4</td><td>3.2</td><td>4.5</td><td>1.5</td><td>versicolor</td></tr>\n",
       "\t<tr><th scope=row>53</th><td>6.9</td><td>3.1</td><td>4.9</td><td>1.5</td><td>versicolor</td></tr>\n",
       "\t<tr><th scope=row>54</th><td>5.5</td><td>2.3</td><td>4.0</td><td>1.3</td><td>versicolor</td></tr>\n",
       "\t<tr><th scope=row>55</th><td>6.5</td><td>2.8</td><td>4.6</td><td>1.5</td><td>versicolor</td></tr>\n",
       "\t<tr><th scope=row>56</th><td>5.7</td><td>2.8</td><td>4.5</td><td>1.3</td><td>versicolor</td></tr>\n",
       "</tbody>\n",
       "</table>\n"
      ],
      "text/latex": [
       "A data.frame: 6 × 5\n",
       "\\begin{tabular}{r|lllll}\n",
       "  & Sepal.Length & Sepal.Width & Petal.Length & Petal.Width & Species\\\\\n",
       "  & <dbl> & <dbl> & <dbl> & <dbl> & <fct>\\\\\n",
       "\\hline\n",
       "\t51 & 7.0 & 3.2 & 4.7 & 1.4 & versicolor\\\\\n",
       "\t52 & 6.4 & 3.2 & 4.5 & 1.5 & versicolor\\\\\n",
       "\t53 & 6.9 & 3.1 & 4.9 & 1.5 & versicolor\\\\\n",
       "\t54 & 5.5 & 2.3 & 4.0 & 1.3 & versicolor\\\\\n",
       "\t55 & 6.5 & 2.8 & 4.6 & 1.5 & versicolor\\\\\n",
       "\t56 & 5.7 & 2.8 & 4.5 & 1.3 & versicolor\\\\\n",
       "\\end{tabular}\n"
      ],
      "text/markdown": [
       "\n",
       "A data.frame: 6 × 5\n",
       "\n",
       "| <!--/--> | Sepal.Length &lt;dbl&gt; | Sepal.Width &lt;dbl&gt; | Petal.Length &lt;dbl&gt; | Petal.Width &lt;dbl&gt; | Species &lt;fct&gt; |\n",
       "|---|---|---|---|---|---|\n",
       "| 51 | 7.0 | 3.2 | 4.7 | 1.4 | versicolor |\n",
       "| 52 | 6.4 | 3.2 | 4.5 | 1.5 | versicolor |\n",
       "| 53 | 6.9 | 3.1 | 4.9 | 1.5 | versicolor |\n",
       "| 54 | 5.5 | 2.3 | 4.0 | 1.3 | versicolor |\n",
       "| 55 | 6.5 | 2.8 | 4.6 | 1.5 | versicolor |\n",
       "| 56 | 5.7 | 2.8 | 4.5 | 1.3 | versicolor |\n",
       "\n"
      ],
      "text/plain": [
       "   Sepal.Length Sepal.Width Petal.Length Petal.Width Species   \n",
       "51 7.0          3.2         4.7          1.4         versicolor\n",
       "52 6.4          3.2         4.5          1.5         versicolor\n",
       "53 6.9          3.1         4.9          1.5         versicolor\n",
       "54 5.5          2.3         4.0          1.3         versicolor\n",
       "55 6.5          2.8         4.6          1.5         versicolor\n",
       "56 5.7          2.8         4.5          1.3         versicolor"
      ]
     },
     "metadata": {},
     "output_type": "display_data"
    }
   ],
   "source": [
    "over <- teste_balance(balance_oversampling(\"Species\"), iris_data)\n",
    "head(over)"
   ]
  },
  {
   "cell_type": "markdown",
   "metadata": {},
   "source": [
    "### Subsampling\n"
   ]
  },
  {
   "cell_type": "code",
   "execution_count": 6,
   "metadata": {},
   "outputs": [
    {
     "name": "stdout",
     "output_type": "stream",
     "text": [
      "[1] \"balance_subsampling\"\n",
      "\n",
      "    setosa versicolor  virginica \n",
      "        11         11         11 \n"
     ]
    },
    {
     "data": {
      "text/html": [
       "<table class=\"dataframe\">\n",
       "<caption>A data.frame: 6 × 5</caption>\n",
       "<thead>\n",
       "\t<tr><th></th><th scope=col>Sepal.Length</th><th scope=col>Sepal.Width</th><th scope=col>Petal.Length</th><th scope=col>Petal.Width</th><th scope=col>Species</th></tr>\n",
       "\t<tr><th></th><th scope=col>&lt;dbl&gt;</th><th scope=col>&lt;dbl&gt;</th><th scope=col>&lt;dbl&gt;</th><th scope=col>&lt;dbl&gt;</th><th scope=col>&lt;fct&gt;</th></tr>\n",
       "</thead>\n",
       "<tbody>\n",
       "\t<tr><th scope=row>117</th><td>6.5</td><td>3.0</td><td>5.5</td><td>1.8</td><td>virginica</td></tr>\n",
       "\t<tr><th scope=row>119</th><td>7.7</td><td>2.6</td><td>6.9</td><td>2.3</td><td>virginica</td></tr>\n",
       "\t<tr><th scope=row>116</th><td>6.4</td><td>3.2</td><td>5.3</td><td>2.3</td><td>virginica</td></tr>\n",
       "\t<tr><th scope=row>112</th><td>6.4</td><td>2.7</td><td>5.3</td><td>1.9</td><td>virginica</td></tr>\n",
       "\t<tr><th scope=row>113</th><td>6.8</td><td>3.0</td><td>5.5</td><td>2.1</td><td>virginica</td></tr>\n",
       "\t<tr><th scope=row>115</th><td>5.8</td><td>2.8</td><td>5.1</td><td>2.4</td><td>virginica</td></tr>\n",
       "</tbody>\n",
       "</table>\n"
      ],
      "text/latex": [
       "A data.frame: 6 × 5\n",
       "\\begin{tabular}{r|lllll}\n",
       "  & Sepal.Length & Sepal.Width & Petal.Length & Petal.Width & Species\\\\\n",
       "  & <dbl> & <dbl> & <dbl> & <dbl> & <fct>\\\\\n",
       "\\hline\n",
       "\t117 & 6.5 & 3.0 & 5.5 & 1.8 & virginica\\\\\n",
       "\t119 & 7.7 & 2.6 & 6.9 & 2.3 & virginica\\\\\n",
       "\t116 & 6.4 & 3.2 & 5.3 & 2.3 & virginica\\\\\n",
       "\t112 & 6.4 & 2.7 & 5.3 & 1.9 & virginica\\\\\n",
       "\t113 & 6.8 & 3.0 & 5.5 & 2.1 & virginica\\\\\n",
       "\t115 & 5.8 & 2.8 & 5.1 & 2.4 & virginica\\\\\n",
       "\\end{tabular}\n"
      ],
      "text/markdown": [
       "\n",
       "A data.frame: 6 × 5\n",
       "\n",
       "| <!--/--> | Sepal.Length &lt;dbl&gt; | Sepal.Width &lt;dbl&gt; | Petal.Length &lt;dbl&gt; | Petal.Width &lt;dbl&gt; | Species &lt;fct&gt; |\n",
       "|---|---|---|---|---|---|\n",
       "| 117 | 6.5 | 3.0 | 5.5 | 1.8 | virginica |\n",
       "| 119 | 7.7 | 2.6 | 6.9 | 2.3 | virginica |\n",
       "| 116 | 6.4 | 3.2 | 5.3 | 2.3 | virginica |\n",
       "| 112 | 6.4 | 2.7 | 5.3 | 1.9 | virginica |\n",
       "| 113 | 6.8 | 3.0 | 5.5 | 2.1 | virginica |\n",
       "| 115 | 5.8 | 2.8 | 5.1 | 2.4 | virginica |\n",
       "\n"
      ],
      "text/plain": [
       "    Sepal.Length Sepal.Width Petal.Length Petal.Width Species  \n",
       "117 6.5          3.0         5.5          1.8         virginica\n",
       "119 7.7          2.6         6.9          2.3         virginica\n",
       "116 6.4          3.2         5.3          2.3         virginica\n",
       "112 6.4          2.7         5.3          1.9         virginica\n",
       "113 6.8          3.0         5.5          2.1         virginica\n",
       "115 5.8          2.8         5.1          2.4         virginica"
      ]
     },
     "metadata": {},
     "output_type": "display_data"
    }
   ],
   "source": [
    "sub <- teste_balance(balance_subsampling(\"Species\"), iris_data)\n",
    "head(sub)"
   ]
  },
  {
   "cell_type": "code",
   "execution_count": null,
   "metadata": {},
   "outputs": [],
   "source": []
  }
 ],
 "metadata": {
  "kernelspec": {
   "display_name": "R",
   "language": "R",
   "name": "ir"
  },
  "language_info": {
   "codemirror_mode": "r",
   "file_extension": ".r",
   "mimetype": "text/x-r-source",
   "name": "R",
   "pygments_lexer": "r",
   "version": "4.2.3"
  }
 },
 "nbformat": 4,
 "nbformat_minor": 2
}
