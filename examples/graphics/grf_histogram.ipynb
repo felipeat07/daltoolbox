{
 "cells": [
  {
   "cell_type": "code",
   "execution_count": 9,
   "metadata": {},
   "outputs": [],
   "source": [
    "# DAL Library\n",
    "# version 2.1\n",
    "\n",
    "source(\"https://raw.githubusercontent.com/cefet-rj-dal/dal/main/examples/jupyter_dal.R\")\n",
    "\n",
    "#loading DAL\n",
    "load_dal() \n",
    "loadlibrary(\"ggplot2\")\n",
    "loadlibrary(\"dplyr\")\n",
    "loadlibrary(\"reshape\")\n",
    "loadlibrary(\"RColorBrewer\")"
   ]
  },
  {
   "cell_type": "code",
   "execution_count": 10,
   "metadata": {},
   "outputs": [],
   "source": [
    "#color palette\n",
    "colors <- brewer.pal(4, 'Set1')\n",
    "\n",
    "# setting the font size for all charts\n",
    "font <- theme(text = element_text(size=16))"
   ]
  },
  {
   "cell_type": "markdown",
   "metadata": {},
   "source": [
    "## Examples using data distribution\n",
    "The following examples use random variables so that different data distribution can be better viewed."
   ]
  },
  {
   "cell_type": "code",
   "execution_count": 11,
   "metadata": {},
   "outputs": [
    {
     "data": {
      "text/html": [
       "<table class=\"dataframe\">\n",
       "<caption>A data.frame: 6 × 3</caption>\n",
       "<thead>\n",
       "\t<tr><th></th><th scope=col>exponential</th><th scope=col>uniform</th><th scope=col>normal</th></tr>\n",
       "\t<tr><th></th><th scope=col>&lt;dbl&gt;</th><th scope=col>&lt;dbl&gt;</th><th scope=col>&lt;dbl&gt;</th></tr>\n",
       "</thead>\n",
       "<tbody>\n",
       "\t<tr><th scope=row>1</th><td>0.05183727</td><td>3.219306</td><td>4.738254</td></tr>\n",
       "\t<tr><th scope=row>2</th><td>0.60045037</td><td>2.633582</td><td>5.466255</td></tr>\n",
       "\t<tr><th scope=row>3</th><td>0.14946589</td><td>3.297843</td><td>6.883462</td></tr>\n",
       "\t<tr><th scope=row>4</th><td>0.24664995</td><td>3.121268</td><td>5.409504</td></tr>\n",
       "\t<tr><th scope=row>5</th><td>2.86100350</td><td>3.121274</td><td>3.573042</td></tr>\n",
       "\t<tr><th scope=row>6</th><td>0.65069497</td><td>3.342106</td><td>5.274291</td></tr>\n",
       "</tbody>\n",
       "</table>\n"
      ],
      "text/latex": [
       "A data.frame: 6 × 3\n",
       "\\begin{tabular}{r|lll}\n",
       "  & exponential & uniform & normal\\\\\n",
       "  & <dbl> & <dbl> & <dbl>\\\\\n",
       "\\hline\n",
       "\t1 & 0.05183727 & 3.219306 & 4.738254\\\\\n",
       "\t2 & 0.60045037 & 2.633582 & 5.466255\\\\\n",
       "\t3 & 0.14946589 & 3.297843 & 6.883462\\\\\n",
       "\t4 & 0.24664995 & 3.121268 & 5.409504\\\\\n",
       "\t5 & 2.86100350 & 3.121274 & 3.573042\\\\\n",
       "\t6 & 0.65069497 & 3.342106 & 5.274291\\\\\n",
       "\\end{tabular}\n"
      ],
      "text/markdown": [
       "\n",
       "A data.frame: 6 × 3\n",
       "\n",
       "| <!--/--> | exponential &lt;dbl&gt; | uniform &lt;dbl&gt; | normal &lt;dbl&gt; |\n",
       "|---|---|---|---|\n",
       "| 1 | 0.05183727 | 3.219306 | 4.738254 |\n",
       "| 2 | 0.60045037 | 2.633582 | 5.466255 |\n",
       "| 3 | 0.14946589 | 3.297843 | 6.883462 |\n",
       "| 4 | 0.24664995 | 3.121268 | 5.409504 |\n",
       "| 5 | 2.86100350 | 3.121274 | 3.573042 |\n",
       "| 6 | 0.65069497 | 3.342106 | 5.274291 |\n",
       "\n"
      ],
      "text/plain": [
       "  exponential uniform  normal  \n",
       "1 0.05183727  3.219306 4.738254\n",
       "2 0.60045037  2.633582 5.466255\n",
       "3 0.14946589  3.297843 6.883462\n",
       "4 0.24664995  3.121268 5.409504\n",
       "5 2.86100350  3.121274 3.573042\n",
       "6 0.65069497  3.342106 5.274291"
      ]
     },
     "metadata": {},
     "output_type": "display_data"
    }
   ],
   "source": [
    "# example: dataset to be plotted  \n",
    "example <- data.frame(exponential = rexp(100000, rate = 1), \n",
    "                     uniform = runif(100000, min = 2.5, max = 3.5), \n",
    "                     normal = rnorm(100000, mean=5))\n",
    "head(example)"
   ]
  },
  {
   "cell_type": "markdown",
   "metadata": {},
   "source": [
    "## Histogram\n",
    "\n",
    "Visualize the distribution of a single continuous variable by dividing the x axis into bins and counting the number of observations in each bin. Histograms (geom_histogram()) display the counts with bars.\n",
    "More information: ?geom_histogram (R documentation)"
   ]
  },
  {
   "cell_type": "code",
   "execution_count": 12,
   "metadata": {},
   "outputs": [
    {
     "name": "stderr",
     "output_type": "stream",
     "text": [
      "Using  as id variables\n",
      "\n"
     ]
    },
    {
     "ename": "ERROR",
     "evalue": "Error in variable %in% cnames: object 'variable' not found\n",
     "output_type": "error",
     "traceback": [
      "Error in variable %in% cnames: object 'variable' not found\nTraceback:\n",
      "1. plot.hist(example %>% select(exponential), label_x = \"exponential\", \n .     color = colors[1])",
      "2. series %>% filter(variable %in% cnames)",
      "3. filter(., variable %in% cnames)",
      "4. variable %in% cnames"
     ]
    }
   ],
   "source": [
    "grf <- plot.hist(example %>% select(exponential), \n",
    "                  label_x = \"exponential\", color=colors[1]) + font\n",
    "options(repr.plot.width=5, repr.plot.height=4)\n",
    "plot(grf)"
   ]
  },
  {
   "cell_type": "markdown",
   "metadata": {},
   "source": [
    "## Arrangement of graphs\n",
    "\n",
    "Function $grid.arrange$ is used to position previously computed charts"
   ]
  },
  {
   "cell_type": "code",
   "execution_count": 13,
   "metadata": {},
   "outputs": [
    {
     "name": "stderr",
     "output_type": "stream",
     "text": [
      "Using  as id variables\n",
      "\n"
     ]
    },
    {
     "ename": "ERROR",
     "evalue": "Error in variable %in% cnames: object 'variable' not found\n",
     "output_type": "error",
     "traceback": [
      "Error in variable %in% cnames: object 'variable' not found\nTraceback:\n",
      "1. plot.hist(example %>% select(exponential), label_x = \"exponential\", \n .     color = colors[1])",
      "2. series %>% filter(variable %in% cnames)",
      "3. filter(., variable %in% cnames)",
      "4. variable %in% cnames"
     ]
    }
   ],
   "source": [
    "grfe <- plot.hist(example %>% select(exponential), \n",
    "                  label_x = \"exponential\", color=colors[1]) + font\n",
    "grfu <- plot.hist(example %>% select(uniform), \n",
    "                  label_x = \"uniform\", color=colors[1]) + font  \n",
    "grfn <- plot.hist(example %>% select(normal), \n",
    "                  label_x = \"normal\", color=colors[1]) + font "
   ]
  },
  {
   "cell_type": "code",
   "execution_count": null,
   "metadata": {},
   "outputs": [],
   "source": [
    "loadlibrary(\"gridExtra\") \n",
    "options(repr.plot.width=15, repr.plot.height=4)\n",
    "grid.arrange(grfe, grfu, grfn, ncol=3)"
   ]
  },
  {
   "cell_type": "code",
   "execution_count": null,
   "metadata": {},
   "outputs": [],
   "source": []
  }
 ],
 "metadata": {
  "kernelspec": {
   "display_name": "R",
   "language": "R",
   "name": "ir"
  },
  "language_info": {
   "codemirror_mode": "r",
   "file_extension": ".r",
   "mimetype": "text/x-r-source",
   "name": "R",
   "pygments_lexer": "r",
   "version": "4.2.3"
  }
 },
 "nbformat": 4,
 "nbformat_minor": 2
}
