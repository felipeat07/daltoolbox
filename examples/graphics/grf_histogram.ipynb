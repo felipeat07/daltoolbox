{
 "cells": [
  {
   "cell_type": "code",
   "execution_count": 1,
   "metadata": {},
   "outputs": [
    {
     "name": "stderr",
     "output_type": "stream",
     "text": [
      "Loading required package: dal\n",
      "\n",
      "Warning message:\n",
      "“replacing previous import ‘FNN::knn.cv’ by ‘class::knn.cv’ when loading ‘dal’”\n",
      "Warning message:\n",
      "“replacing previous import ‘FNN::knn’ by ‘class::knn’ when loading ‘dal’”\n",
      "Registered S3 method overwritten by 'quantmod':\n",
      "  method            from\n",
      "  as.zoo.data.frame zoo \n",
      "\n",
      "Warning message:\n",
      "“replacing previous import ‘dbscan::dbscan’ by ‘fpc::dbscan’ when loading ‘dal’”\n",
      "Warning message:\n",
      "“replacing previous import ‘dplyr::combine’ by ‘randomForest::combine’ when loading ‘dal’”\n",
      "Warning message:\n",
      "“replacing previous import ‘Matrix::cov2cor’ by ‘stats::cov2cor’ when loading ‘dal’”\n",
      "Warning message:\n",
      "“replacing previous import ‘dbscan::as.dendrogram’ by ‘stats::as.dendrogram’ when loading ‘dal’”\n",
      "Warning message:\n",
      "“replacing previous import ‘dplyr::filter’ by ‘stats::filter’ when loading ‘dal’”\n",
      "Warning message:\n",
      "“replacing previous import ‘dplyr::lag’ by ‘stats::lag’ when loading ‘dal’”\n",
      "Warning message:\n",
      "“replacing previous import ‘Matrix::toeplitz’ by ‘stats::toeplitz’ when loading ‘dal’”\n",
      "Warning message:\n",
      "“replacing previous import ‘Matrix::update’ by ‘stats::update’ when loading ‘dal’”\n",
      "\n",
      "Attaching package: ‘dal’\n",
      "\n",
      "\n",
      "The following object is masked from ‘package:stats’:\n",
      "\n",
      "    optimize\n",
      "\n",
      "\n",
      "The following objects are masked from ‘package:base’:\n",
      "\n",
      "    jitter, transform\n",
      "\n",
      "\n",
      "Loading required package: ggplot2\n",
      "\n",
      "Loading required package: dplyr\n",
      "\n",
      "\n",
      "Attaching package: ‘dplyr’\n",
      "\n",
      "\n",
      "The following objects are masked from ‘package:stats’:\n",
      "\n",
      "    filter, lag\n",
      "\n",
      "\n",
      "The following objects are masked from ‘package:base’:\n",
      "\n",
      "    intersect, setdiff, setequal, union\n",
      "\n",
      "\n",
      "Loading required package: reshape\n",
      "\n",
      "\n",
      "Attaching package: ‘reshape’\n",
      "\n",
      "\n",
      "The following object is masked from ‘package:dplyr’:\n",
      "\n",
      "    rename\n",
      "\n",
      "\n",
      "Loading required package: RColorBrewer\n",
      "\n"
     ]
    }
   ],
   "source": [
    "# DAL Library\n",
    "# version 1.0.24\n",
    "\n",
    "source(\"https://raw.githubusercontent.com/cefet-rj-dal/dal/main/examples/jupyter_dal.R\")\n",
    "\n",
    "#loading DAL\n",
    "load_dal() \n",
    "loadlibrary(\"ggplot2\")\n",
    "loadlibrary(\"dplyr\")\n",
    "loadlibrary(\"reshape\")\n",
    "loadlibrary(\"RColorBrewer\")"
   ]
  },
  {
   "cell_type": "code",
   "execution_count": 2,
   "metadata": {},
   "outputs": [],
   "source": [
    "#color palette\n",
    "colors <- brewer.pal(4, 'Set1')\n",
    "\n",
    "# setting the font size for all charts\n",
    "font <- theme(text = element_text(size=16))"
   ]
  },
  {
   "cell_type": "markdown",
   "metadata": {},
   "source": [
    "## Examples using data distribution\n",
    "The following examples use random variables so that different data distribution can be better viewed."
   ]
  },
  {
   "cell_type": "code",
   "execution_count": 3,
   "metadata": {},
   "outputs": [
    {
     "data": {
      "text/html": [
       "<table class=\"dataframe\">\n",
       "<caption>A data.frame: 6 × 3</caption>\n",
       "<thead>\n",
       "\t<tr><th></th><th scope=col>exponential</th><th scope=col>uniform</th><th scope=col>normal</th></tr>\n",
       "\t<tr><th></th><th scope=col>&lt;dbl&gt;</th><th scope=col>&lt;dbl&gt;</th><th scope=col>&lt;dbl&gt;</th></tr>\n",
       "</thead>\n",
       "<tbody>\n",
       "\t<tr><th scope=row>1</th><td>0.2660654</td><td>2.797853</td><td>4.767507</td></tr>\n",
       "\t<tr><th scope=row>2</th><td>0.7500051</td><td>2.811661</td><td>2.998973</td></tr>\n",
       "\t<tr><th scope=row>3</th><td>1.3042359</td><td>3.304019</td><td>6.008742</td></tr>\n",
       "\t<tr><th scope=row>4</th><td>1.8078924</td><td>3.251249</td><td>6.100649</td></tr>\n",
       "\t<tr><th scope=row>5</th><td>1.5296457</td><td>2.834041</td><td>4.572944</td></tr>\n",
       "\t<tr><th scope=row>6</th><td>3.8566775</td><td>2.559183</td><td>4.893735</td></tr>\n",
       "</tbody>\n",
       "</table>\n"
      ],
      "text/latex": [
       "A data.frame: 6 × 3\n",
       "\\begin{tabular}{r|lll}\n",
       "  & exponential & uniform & normal\\\\\n",
       "  & <dbl> & <dbl> & <dbl>\\\\\n",
       "\\hline\n",
       "\t1 & 0.2660654 & 2.797853 & 4.767507\\\\\n",
       "\t2 & 0.7500051 & 2.811661 & 2.998973\\\\\n",
       "\t3 & 1.3042359 & 3.304019 & 6.008742\\\\\n",
       "\t4 & 1.8078924 & 3.251249 & 6.100649\\\\\n",
       "\t5 & 1.5296457 & 2.834041 & 4.572944\\\\\n",
       "\t6 & 3.8566775 & 2.559183 & 4.893735\\\\\n",
       "\\end{tabular}\n"
      ],
      "text/markdown": [
       "\n",
       "A data.frame: 6 × 3\n",
       "\n",
       "| <!--/--> | exponential &lt;dbl&gt; | uniform &lt;dbl&gt; | normal &lt;dbl&gt; |\n",
       "|---|---|---|---|\n",
       "| 1 | 0.2660654 | 2.797853 | 4.767507 |\n",
       "| 2 | 0.7500051 | 2.811661 | 2.998973 |\n",
       "| 3 | 1.3042359 | 3.304019 | 6.008742 |\n",
       "| 4 | 1.8078924 | 3.251249 | 6.100649 |\n",
       "| 5 | 1.5296457 | 2.834041 | 4.572944 |\n",
       "| 6 | 3.8566775 | 2.559183 | 4.893735 |\n",
       "\n"
      ],
      "text/plain": [
       "  exponential uniform  normal  \n",
       "1 0.2660654   2.797853 4.767507\n",
       "2 0.7500051   2.811661 2.998973\n",
       "3 1.3042359   3.304019 6.008742\n",
       "4 1.8078924   3.251249 6.100649\n",
       "5 1.5296457   2.834041 4.572944\n",
       "6 3.8566775   2.559183 4.893735"
      ]
     },
     "metadata": {},
     "output_type": "display_data"
    }
   ],
   "source": [
    "# example: dataset to be plotted  \n",
    "example <- data.frame(exponential = rexp(100000, rate = 1), \n",
    "                     uniform = runif(100000, min = 2.5, max = 3.5), \n",
    "                     normal = rnorm(100000, mean=5))\n",
    "head(example)"
   ]
  },
  {
   "cell_type": "markdown",
   "metadata": {},
   "source": [
    "## Histogram\n",
    "\n",
    "Visualize the distribution of a single continuous variable by dividing the x axis into bins and counting the number of observations in each bin. Histograms (geom_histogram()) display the counts with bars.\n",
    "More information: ?geom_histogram (R documentation)"
   ]
  },
  {
   "cell_type": "code",
   "execution_count": 4,
   "metadata": {},
   "outputs": [
    {
     "name": "stderr",
     "output_type": "stream",
     "text": [
      "Using  as id variables\n",
      "\n"
     ]
    },
    {
     "data": {
      "image/png": "[encoded data removed]",
      "text/plain": [
       "plot without title"
      ]
     },
     "metadata": {
      "image/png": {
       "height": 240,
       "width": 300
      }
     },
     "output_type": "display_data"
    }
   ],
   "source": [
    "grf <- plot.hist(example |> select(exponential), \n",
    "                  label_x = \"exponential\", color=colors[1]) + font\n",
    "options(repr.plot.width=5, repr.plot.height=4)\n",
    "plot(grf)"
   ]
  },
  {
   "cell_type": "markdown",
   "metadata": {},
   "source": [
    "## Arrangement of graphs\n",
    "\n",
    "Function $grid.arrange$ is used to position previously computed charts"
   ]
  },
  {
   "cell_type": "code",
   "execution_count": 5,
   "metadata": {},
   "outputs": [
    {
     "name": "stderr",
     "output_type": "stream",
     "text": [
      "Using  as id variables\n",
      "\n",
      "Using  as id variables\n",
      "\n",
      "Using  as id variables\n",
      "\n"
     ]
    }
   ],
   "source": [
    "grfe <- plot.hist(example |> select(exponential), \n",
    "                  label_x = \"exponential\", color=colors[1]) + font\n",
    "grfu <- plot.hist(example |> select(uniform), \n",
    "                  label_x = \"uniform\", color=colors[1]) + font  \n",
    "grfn <- plot.hist(example |> select(normal), \n",
    "                  label_x = \"normal\", color=colors[1]) + font "
   ]
  },
  {
   "cell_type": "code",
   "execution_count": 6,
   "metadata": {},
   "outputs": [
    {
     "name": "stderr",
     "output_type": "stream",
     "text": [
      "Loading required package: gridExtra\n",
      "\n",
      "\n",
      "Attaching package: ‘gridExtra’\n",
      "\n",
      "\n",
      "The following object is masked from ‘package:dplyr’:\n",
      "\n",
      "    combine\n",
      "\n",
      "\n"
     ]
    },
    {
     "data": {
      "image/png": "[encoded data removed]",
      "text/plain": [
       "plot without title"
      ]
     },
     "metadata": {
      "image/png": {
       "height": 240,
       "width": 900
      }
     },
     "output_type": "display_data"
    }
   ],
   "source": [
    "loadlibrary(\"gridExtra\") \n",
    "options(repr.plot.width=15, repr.plot.height=4)\n",
    "grid.arrange(grfe, grfu, grfn, ncol=3)"
   ]
  },
  {
   "cell_type": "code",
   "execution_count": null,
   "metadata": {},
   "outputs": [],
   "source": []
  }
 ],
 "metadata": {
  "kernelspec": {
   "display_name": "R",
   "language": "R",
   "name": "ir"
  },
  "language_info": {
   "codemirror_mode": "r",
   "file_extension": ".r",
   "mimetype": "text/x-r-source",
   "name": "R",
   "pygments_lexer": "r",
   "version": "4.2.3"
  }
 },
 "nbformat": 4,
 "nbformat_minor": 2
}
