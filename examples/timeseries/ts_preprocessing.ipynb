{
 "cells": [
  {
   "cell_type": "markdown",
   "metadata": {},
   "source": [
    "## Time series preprocessing"
   ]
  },
  {
   "cell_type": "code",
   "execution_count": 1,
   "metadata": {},
   "outputs": [
    {
     "name": "stderr",
     "output_type": "stream",
     "text": [
      "Warning message:\n",
      "“replacing previous import ‘dplyr::rename’ by ‘reshape::rename’ when loading ‘daltoolbox’”\n",
      "Warning message:\n",
      "“replacing previous import ‘class::condense’ by ‘reshape::condense’ when loading ‘daltoolbox’”\n",
      "Warning message:\n",
      "“replacing previous import ‘dplyr::filter’ by ‘stats::filter’ when loading ‘daltoolbox’”\n"
     ]
    }
   ],
   "source": [
    "# DAL ToolBox\n",
    "# version 1.0.53\n",
    "\n",
    "source(\"https://raw.githubusercontent.com/cefet-rj-dal/dal/main/examples/jupyter_daltoolbox.R\")\n",
    "\n",
    "#loading DAL\n",
    "load_daltoolbox() "
   ]
  },
  {
   "cell_type": "markdown",
   "metadata": {},
   "source": [
    "### Cosine series for studying"
   ]
  },
  {
   "cell_type": "code",
   "execution_count": 2,
   "metadata": {},
   "outputs": [],
   "source": [
    "i <- seq(0, 2*pi, pi/50)\n",
    "x <- cos(i)"
   ]
  },
  {
   "cell_type": "code",
   "execution_count": 3,
   "metadata": {},
   "outputs": [
    {
     "data": {
      "image/png": "[encoded data removed]",
      "text/plain": [
       "plot without title"
      ]
     },
     "metadata": {
      "image/png": {
       "height": 420,
       "width": 420
      }
     },
     "output_type": "display_data"
    }
   ],
   "source": [
    "library(ggplot2)\n",
    "ts_plot(x=i, y=x) + theme(text = element_text(size=16))"
   ]
  },
  {
   "cell_type": "markdown",
   "metadata": {},
   "source": [
    "### sliding windows"
   ]
  },
  {
   "cell_type": "code",
   "execution_count": 5,
   "metadata": {},
   "outputs": [
    {
     "data": {
      "text/html": [
       "<table class=\"dataframe\">\n",
       "<caption>A matrix: 3 × 10 of type dbl</caption>\n",
       "<thead>\n",
       "\t<tr><th scope=col>t9</th><th scope=col>t8</th><th scope=col>t7</th><th scope=col>t6</th><th scope=col>t5</th><th scope=col>t4</th><th scope=col>t3</th><th scope=col>t2</th><th scope=col>t1</th><th scope=col>t0</th></tr>\n",
       "</thead>\n",
       "<tbody>\n",
       "\t<tr><td>1.0000000</td><td>0.9980267</td><td>0.9921147</td><td>0.9822873</td><td>0.9685832</td><td>0.9510565</td><td>0.9297765</td><td>0.9048271</td><td>0.8763067</td><td>0.8443279</td></tr>\n",
       "\t<tr><td>0.9980267</td><td>0.9921147</td><td>0.9822873</td><td>0.9685832</td><td>0.9510565</td><td>0.9297765</td><td>0.9048271</td><td>0.8763067</td><td>0.8443279</td><td>0.8090170</td></tr>\n",
       "\t<tr><td>0.9921147</td><td>0.9822873</td><td>0.9685832</td><td>0.9510565</td><td>0.9297765</td><td>0.9048271</td><td>0.8763067</td><td>0.8443279</td><td>0.8090170</td><td>0.7705132</td></tr>\n",
       "</tbody>\n",
       "</table>\n"
      ],
      "text/latex": [
       "A matrix: 3 × 10 of type dbl\n",
       "\\begin{tabular}{llllllllll}\n",
       " t9 & t8 & t7 & t6 & t5 & t4 & t3 & t2 & t1 & t0\\\\\n",
       "\\hline\n",
       "\t 1.0000000 & 0.9980267 & 0.9921147 & 0.9822873 & 0.9685832 & 0.9510565 & 0.9297765 & 0.9048271 & 0.8763067 & 0.8443279\\\\\n",
       "\t 0.9980267 & 0.9921147 & 0.9822873 & 0.9685832 & 0.9510565 & 0.9297765 & 0.9048271 & 0.8763067 & 0.8443279 & 0.8090170\\\\\n",
       "\t 0.9921147 & 0.9822873 & 0.9685832 & 0.9510565 & 0.9297765 & 0.9048271 & 0.8763067 & 0.8443279 & 0.8090170 & 0.7705132\\\\\n",
       "\\end{tabular}\n"
      ],
      "text/markdown": [
       "\n",
       "A matrix: 3 × 10 of type dbl\n",
       "\n",
       "| t9 | t8 | t7 | t6 | t5 | t4 | t3 | t2 | t1 | t0 |\n",
       "|---|---|---|---|---|---|---|---|---|---|\n",
       "| 1.0000000 | 0.9980267 | 0.9921147 | 0.9822873 | 0.9685832 | 0.9510565 | 0.9297765 | 0.9048271 | 0.8763067 | 0.8443279 |\n",
       "| 0.9980267 | 0.9921147 | 0.9822873 | 0.9685832 | 0.9510565 | 0.9297765 | 0.9048271 | 0.8763067 | 0.8443279 | 0.8090170 |\n",
       "| 0.9921147 | 0.9822873 | 0.9685832 | 0.9510565 | 0.9297765 | 0.9048271 | 0.8763067 | 0.8443279 | 0.8090170 | 0.7705132 |\n",
       "\n"
      ],
      "text/plain": [
       "     t9        t8        t7        t6        t5        t4        t3       \n",
       "[1,] 1.0000000 0.9980267 0.9921147 0.9822873 0.9685832 0.9510565 0.9297765\n",
       "[2,] 0.9980267 0.9921147 0.9822873 0.9685832 0.9510565 0.9297765 0.9048271\n",
       "[3,] 0.9921147 0.9822873 0.9685832 0.9510565 0.9297765 0.9048271 0.8763067\n",
       "     t2        t1        t0       \n",
       "[1,] 0.9048271 0.8763067 0.8443279\n",
       "[2,] 0.8763067 0.8443279 0.8090170\n",
       "[3,] 0.8443279 0.8090170 0.7705132"
      ]
     },
     "metadata": {},
     "output_type": "display_data"
    },
    {
     "data": {
      "text/plain": [
       "       t0          \n",
       " Min.   :-1.00000  \n",
       " 1st Qu.:-0.73935  \n",
       " Median :-0.12533  \n",
       " Mean   :-0.08264  \n",
       " 3rd Qu.: 0.54882  \n",
       " Max.   : 1.00000  "
      ]
     },
     "metadata": {},
     "output_type": "display_data"
    }
   ],
   "source": [
    "sw_size <- 10\n",
    "ts <- ts_data(x, sw_size)\n",
    "tshead(ts, 3)\n",
    "summary(ts[,10])"
   ]
  },
  {
   "cell_type": "code",
   "execution_count": null,
   "metadata": {},
   "outputs": [],
   "source": [
    "\n",
    "library(ggplot2)\n",
    "ts_plot(x=i, y=ts[,10]) + theme(text = element_text(size=16))"
   ]
  },
  {
   "cell_type": "markdown",
   "metadata": {},
   "source": [
    "### global min-max"
   ]
  },
  {
   "cell_type": "code",
   "execution_count": 4,
   "metadata": {},
   "outputs": [
    {
     "data": {
      "text/html": [
       "<table class=\"dataframe\">\n",
       "<caption>A matrix: 3 × 10 of type dbl</caption>\n",
       "<thead>\n",
       "\t<tr><th scope=col>t9</th><th scope=col>t8</th><th scope=col>t7</th><th scope=col>t6</th><th scope=col>t5</th><th scope=col>t4</th><th scope=col>t3</th><th scope=col>t2</th><th scope=col>t1</th><th scope=col>t0</th></tr>\n",
       "</thead>\n",
       "<tbody>\n",
       "\t<tr><td>1.0000000</td><td>0.9990134</td><td>0.9960574</td><td>0.9911436</td><td>0.9842916</td><td>0.9755283</td><td>0.9648882</td><td>0.9524135</td><td>0.9381533</td><td>0.9221640</td></tr>\n",
       "\t<tr><td>0.9990134</td><td>0.9960574</td><td>0.9911436</td><td>0.9842916</td><td>0.9755283</td><td>0.9648882</td><td>0.9524135</td><td>0.9381533</td><td>0.9221640</td><td>0.9045085</td></tr>\n",
       "\t<tr><td>0.9960574</td><td>0.9911436</td><td>0.9842916</td><td>0.9755283</td><td>0.9648882</td><td>0.9524135</td><td>0.9381533</td><td>0.9221640</td><td>0.9045085</td><td>0.8852566</td></tr>\n",
       "</tbody>\n",
       "</table>\n"
      ],
      "text/latex": [
       "A matrix: 3 × 10 of type dbl\n",
       "\\begin{tabular}{llllllllll}\n",
       " t9 & t8 & t7 & t6 & t5 & t4 & t3 & t2 & t1 & t0\\\\\n",
       "\\hline\n",
       "\t 1.0000000 & 0.9990134 & 0.9960574 & 0.9911436 & 0.9842916 & 0.9755283 & 0.9648882 & 0.9524135 & 0.9381533 & 0.9221640\\\\\n",
       "\t 0.9990134 & 0.9960574 & 0.9911436 & 0.9842916 & 0.9755283 & 0.9648882 & 0.9524135 & 0.9381533 & 0.9221640 & 0.9045085\\\\\n",
       "\t 0.9960574 & 0.9911436 & 0.9842916 & 0.9755283 & 0.9648882 & 0.9524135 & 0.9381533 & 0.9221640 & 0.9045085 & 0.8852566\\\\\n",
       "\\end{tabular}\n"
      ],
      "text/markdown": [
       "\n",
       "A matrix: 3 × 10 of type dbl\n",
       "\n",
       "| t9 | t8 | t7 | t6 | t5 | t4 | t3 | t2 | t1 | t0 |\n",
       "|---|---|---|---|---|---|---|---|---|---|\n",
       "| 1.0000000 | 0.9990134 | 0.9960574 | 0.9911436 | 0.9842916 | 0.9755283 | 0.9648882 | 0.9524135 | 0.9381533 | 0.9221640 |\n",
       "| 0.9990134 | 0.9960574 | 0.9911436 | 0.9842916 | 0.9755283 | 0.9648882 | 0.9524135 | 0.9381533 | 0.9221640 | 0.9045085 |\n",
       "| 0.9960574 | 0.9911436 | 0.9842916 | 0.9755283 | 0.9648882 | 0.9524135 | 0.9381533 | 0.9221640 | 0.9045085 | 0.8852566 |\n",
       "\n"
      ],
      "text/plain": [
       "     t9        t8        t7        t6        t5        t4        t3       \n",
       "[1,] 1.0000000 0.9990134 0.9960574 0.9911436 0.9842916 0.9755283 0.9648882\n",
       "[2,] 0.9990134 0.9960574 0.9911436 0.9842916 0.9755283 0.9648882 0.9524135\n",
       "[3,] 0.9960574 0.9911436 0.9842916 0.9755283 0.9648882 0.9524135 0.9381533\n",
       "     t2        t1        t0       \n",
       "[1,] 0.9524135 0.9381533 0.9221640\n",
       "[2,] 0.9381533 0.9221640 0.9045085\n",
       "[3,] 0.9221640 0.9045085 0.8852566"
      ]
     },
     "metadata": {},
     "output_type": "display_data"
    },
    {
     "data": {
      "text/plain": [
       "       t0        \n",
       " Min.   :0.0000  \n",
       " 1st Qu.:0.1303  \n",
       " Median :0.4373  \n",
       " Mean   :0.4587  \n",
       " 3rd Qu.:0.7744  \n",
       " Max.   :1.0000  "
      ]
     },
     "metadata": {},
     "output_type": "display_data"
    },
    {
     "data": {
      "image/png": "[encoded data removed]",
      "text/plain": [
       "plot without title"
      ]
     },
     "metadata": {
      "image/png": {
       "height": 420,
       "width": 420
      }
     },
     "output_type": "display_data"
    }
   ],
   "source": [
    "preproc <- ts_gminmax()\n",
    "preproc <- fit(preproc, ts)\n",
    "tst <- transform(preproc, ts)\n",
    "tshead(tst, 3)\n",
    "summary(tst[,10])\n",
    "plot(tst[,10])"
   ]
  },
  {
   "cell_type": "markdown",
   "metadata": {},
   "source": [
    "### global min-max (differentiation)"
   ]
  },
  {
   "cell_type": "code",
   "execution_count": 5,
   "metadata": {},
   "outputs": [
    {
     "data": {
      "text/html": [
       "<table class=\"dataframe\">\n",
       "<caption>A matrix: 3 × 9 of type dbl</caption>\n",
       "<thead>\n",
       "\t<tr><th scope=col>t8</th><th scope=col>t7</th><th scope=col>t6</th><th scope=col>t5</th><th scope=col>t4</th><th scope=col>t3</th><th scope=col>t2</th><th scope=col>t1</th><th scope=col>t0</th></tr>\n",
       "</thead>\n",
       "<tbody>\n",
       "\t<tr><td>0.4842869</td><td>0.4529226</td><td>0.4217442</td><td>0.3908745</td><td>0.3604356</td><td>0.3305474</td><td>0.3013280</td><td>0.2728927</td><td>0.2453536</td></tr>\n",
       "\t<tr><td>0.4529226</td><td>0.4217442</td><td>0.3908745</td><td>0.3604356</td><td>0.3305474</td><td>0.3013280</td><td>0.2728927</td><td>0.2453536</td><td>0.2188196</td></tr>\n",
       "\t<tr><td>0.4217442</td><td>0.3908745</td><td>0.3604356</td><td>0.3305474</td><td>0.3013280</td><td>0.2728927</td><td>0.2453536</td><td>0.2188196</td><td>0.1933952</td></tr>\n",
       "</tbody>\n",
       "</table>\n"
      ],
      "text/latex": [
       "A matrix: 3 × 9 of type dbl\n",
       "\\begin{tabular}{lllllllll}\n",
       " t8 & t7 & t6 & t5 & t4 & t3 & t2 & t1 & t0\\\\\n",
       "\\hline\n",
       "\t 0.4842869 & 0.4529226 & 0.4217442 & 0.3908745 & 0.3604356 & 0.3305474 & 0.3013280 & 0.2728927 & 0.2453536\\\\\n",
       "\t 0.4529226 & 0.4217442 & 0.3908745 & 0.3604356 & 0.3305474 & 0.3013280 & 0.2728927 & 0.2453536 & 0.2188196\\\\\n",
       "\t 0.4217442 & 0.3908745 & 0.3604356 & 0.3305474 & 0.3013280 & 0.2728927 & 0.2453536 & 0.2188196 & 0.1933952\\\\\n",
       "\\end{tabular}\n"
      ],
      "text/markdown": [
       "\n",
       "A matrix: 3 × 9 of type dbl\n",
       "\n",
       "| t8 | t7 | t6 | t5 | t4 | t3 | t2 | t1 | t0 |\n",
       "|---|---|---|---|---|---|---|---|---|\n",
       "| 0.4842869 | 0.4529226 | 0.4217442 | 0.3908745 | 0.3604356 | 0.3305474 | 0.3013280 | 0.2728927 | 0.2453536 |\n",
       "| 0.4529226 | 0.4217442 | 0.3908745 | 0.3604356 | 0.3305474 | 0.3013280 | 0.2728927 | 0.2453536 | 0.2188196 |\n",
       "| 0.4217442 | 0.3908745 | 0.3604356 | 0.3305474 | 0.3013280 | 0.2728927 | 0.2453536 | 0.2188196 | 0.1933952 |\n",
       "\n"
      ],
      "text/plain": [
       "     t8        t7        t6        t5        t4        t3        t2       \n",
       "[1,] 0.4842869 0.4529226 0.4217442 0.3908745 0.3604356 0.3305474 0.3013280\n",
       "[2,] 0.4529226 0.4217442 0.3908745 0.3604356 0.3305474 0.3013280 0.2728927\n",
       "[3,] 0.4217442 0.3908745 0.3604356 0.3305474 0.3013280 0.2728927 0.2453536\n",
       "     t1        t0       \n",
       "[1,] 0.2728927 0.2453536\n",
       "[2,] 0.2453536 0.2188196\n",
       "[3,] 0.2188196 0.1933952"
      ]
     },
     "metadata": {},
     "output_type": "display_data"
    },
    {
     "data": {
      "text/plain": [
       "       t0        \n",
       " Min.   :0.0000  \n",
       " 1st Qu.:0.1248  \n",
       " Median :0.5627  \n",
       " Mean   :0.5107  \n",
       " 3rd Qu.:0.8752  \n",
       " Max.   :1.0000  "
      ]
     },
     "metadata": {},
     "output_type": "display_data"
    },
    {
     "data": {
      "image/png": "[encoded data removed]",
      "text/plain": [
       "plot without title"
      ]
     },
     "metadata": {
      "image/png": {
       "height": 420,
       "width": 420
      }
     },
     "output_type": "display_data"
    }
   ],
   "source": [
    "preproc <- ts_diff()\n",
    "preproc <- fit(preproc, ts)\n",
    "tst <- transform(preproc, ts)\n",
    "tshead(tst, 3)\n",
    "summary(tst[,9])\n",
    "plot(tst[,9])"
   ]
  },
  {
   "cell_type": "markdown",
   "metadata": {},
   "source": [
    "### sliding window min-max"
   ]
  },
  {
   "cell_type": "code",
   "execution_count": 6,
   "metadata": {},
   "outputs": [
    {
     "data": {
      "text/html": [
       "<table class=\"dataframe\">\n",
       "<caption>A matrix: 3 × 10 of type dbl</caption>\n",
       "<thead>\n",
       "\t<tr><th scope=col>t9</th><th scope=col>t8</th><th scope=col>t7</th><th scope=col>t6</th><th scope=col>t5</th><th scope=col>t4</th><th scope=col>t3</th><th scope=col>t2</th><th scope=col>t1</th><th scope=col>t0</th></tr>\n",
       "</thead>\n",
       "<tbody>\n",
       "\t<tr><td>1</td><td>0.9873242</td><td>0.9493467</td><td>0.8862176</td><td>0.7981858</td><td>0.6855988</td><td>0.5489010</td><td>0.3886319</td><td>0.2054238</td><td>0</td></tr>\n",
       "\t<tr><td>1</td><td>0.9687210</td><td>0.9167266</td><td>0.8442220</td><td>0.7514932</td><td>0.6389062</td><td>0.5069054</td><td>0.3560117</td><td>0.1868207</td><td>0</td></tr>\n",
       "\t<tr><td>1</td><td>0.9556526</td><td>0.8938114</td><td>0.8147206</td><td>0.7186922</td><td>0.6061053</td><td>0.4774041</td><td>0.3330966</td><td>0.1737522</td><td>0</td></tr>\n",
       "</tbody>\n",
       "</table>\n"
      ],
      "text/latex": [
       "A matrix: 3 × 10 of type dbl\n",
       "\\begin{tabular}{llllllllll}\n",
       " t9 & t8 & t7 & t6 & t5 & t4 & t3 & t2 & t1 & t0\\\\\n",
       "\\hline\n",
       "\t 1 & 0.9873242 & 0.9493467 & 0.8862176 & 0.7981858 & 0.6855988 & 0.5489010 & 0.3886319 & 0.2054238 & 0\\\\\n",
       "\t 1 & 0.9687210 & 0.9167266 & 0.8442220 & 0.7514932 & 0.6389062 & 0.5069054 & 0.3560117 & 0.1868207 & 0\\\\\n",
       "\t 1 & 0.9556526 & 0.8938114 & 0.8147206 & 0.7186922 & 0.6061053 & 0.4774041 & 0.3330966 & 0.1737522 & 0\\\\\n",
       "\\end{tabular}\n"
      ],
      "text/markdown": [
       "\n",
       "A matrix: 3 × 10 of type dbl\n",
       "\n",
       "| t9 | t8 | t7 | t6 | t5 | t4 | t3 | t2 | t1 | t0 |\n",
       "|---|---|---|---|---|---|---|---|---|---|\n",
       "| 1 | 0.9873242 | 0.9493467 | 0.8862176 | 0.7981858 | 0.6855988 | 0.5489010 | 0.3886319 | 0.2054238 | 0 |\n",
       "| 1 | 0.9687210 | 0.9167266 | 0.8442220 | 0.7514932 | 0.6389062 | 0.5069054 | 0.3560117 | 0.1868207 | 0 |\n",
       "| 1 | 0.9556526 | 0.8938114 | 0.8147206 | 0.7186922 | 0.6061053 | 0.4774041 | 0.3330966 | 0.1737522 | 0 |\n",
       "\n"
      ],
      "text/plain": [
       "     t9 t8        t7        t6        t5        t4        t3        t2       \n",
       "[1,] 1  0.9873242 0.9493467 0.8862176 0.7981858 0.6855988 0.5489010 0.3886319\n",
       "[2,] 1  0.9687210 0.9167266 0.8442220 0.7514932 0.6389062 0.5069054 0.3560117\n",
       "[3,] 1  0.9556526 0.8938114 0.8147206 0.7186922 0.6061053 0.4774041 0.3330966\n",
       "     t1        t0\n",
       "[1,] 0.2054238 0 \n",
       "[2,] 0.1868207 0 \n",
       "[3,] 0.1737522 0 "
      ]
     },
     "metadata": {},
     "output_type": "display_data"
    },
    {
     "data": {
      "text/plain": [
       "       t0        \n",
       " Min.   :0.0000  \n",
       " 1st Qu.:0.0000  \n",
       " Median :0.8210  \n",
       " Mean   :0.5108  \n",
       " 3rd Qu.:1.0000  \n",
       " Max.   :1.0000  "
      ]
     },
     "metadata": {},
     "output_type": "display_data"
    },
    {
     "data": {
      "image/png": "[encoded data removed]",
      "text/plain": [
       "plot without title"
      ]
     },
     "metadata": {
      "image/png": {
       "height": 420,
       "width": 420
      }
     },
     "output_type": "display_data"
    }
   ],
   "source": [
    "preproc <- ts_swminmax()\n",
    "preproc <- fit(preproc, ts)\n",
    "tst <- transform(preproc, ts)\n",
    "tshead(tst, 3)\n",
    "summary(tst[,10])\n",
    "#ploting the first window\n",
    "plot(as.vector(tst[1,]))"
   ]
  },
  {
   "cell_type": "markdown",
   "metadata": {},
   "source": [
    "### sliding window adaptive normalization"
   ]
  },
  {
   "cell_type": "code",
   "execution_count": 7,
   "metadata": {},
   "outputs": [
    {
     "data": {
      "text/html": [
       "<table class=\"dataframe\">\n",
       "<caption>A matrix: 3 × 10 of type dbl</caption>\n",
       "<thead>\n",
       "\t<tr><th scope=col>t9</th><th scope=col>t8</th><th scope=col>t7</th><th scope=col>t6</th><th scope=col>t5</th><th scope=col>t4</th><th scope=col>t3</th><th scope=col>t2</th><th scope=col>t1</th><th scope=col>t0</th></tr>\n",
       "</thead>\n",
       "<tbody>\n",
       "\t<tr><td>0.5888370</td><td>0.5856653</td><td>0.5761626</td><td>0.5603665</td><td>0.5383393</td><td>0.5101679</td><td>0.4759635</td><td>0.4358611</td><td>0.3900189</td><td>0.3386180</td></tr>\n",
       "\t<tr><td>0.6163629</td><td>0.6068602</td><td>0.5910641</td><td>0.5690369</td><td>0.5408655</td><td>0.5066611</td><td>0.4665587</td><td>0.4207165</td><td>0.3693156</td><td>0.3125587</td></tr>\n",
       "\t<tr><td>0.6434295</td><td>0.6276334</td><td>0.6056062</td><td>0.5774348</td><td>0.5432304</td><td>0.5031280</td><td>0.4572858</td><td>0.4058849</td><td>0.3491280</td><td>0.2872391</td></tr>\n",
       "</tbody>\n",
       "</table>\n"
      ],
      "text/latex": [
       "A matrix: 3 × 10 of type dbl\n",
       "\\begin{tabular}{llllllllll}\n",
       " t9 & t8 & t7 & t6 & t5 & t4 & t3 & t2 & t1 & t0\\\\\n",
       "\\hline\n",
       "\t 0.5888370 & 0.5856653 & 0.5761626 & 0.5603665 & 0.5383393 & 0.5101679 & 0.4759635 & 0.4358611 & 0.3900189 & 0.3386180\\\\\n",
       "\t 0.6163629 & 0.6068602 & 0.5910641 & 0.5690369 & 0.5408655 & 0.5066611 & 0.4665587 & 0.4207165 & 0.3693156 & 0.3125587\\\\\n",
       "\t 0.6434295 & 0.6276334 & 0.6056062 & 0.5774348 & 0.5432304 & 0.5031280 & 0.4572858 & 0.4058849 & 0.3491280 & 0.2872391\\\\\n",
       "\\end{tabular}\n"
      ],
      "text/markdown": [
       "\n",
       "A matrix: 3 × 10 of type dbl\n",
       "\n",
       "| t9 | t8 | t7 | t6 | t5 | t4 | t3 | t2 | t1 | t0 |\n",
       "|---|---|---|---|---|---|---|---|---|---|\n",
       "| 0.5888370 | 0.5856653 | 0.5761626 | 0.5603665 | 0.5383393 | 0.5101679 | 0.4759635 | 0.4358611 | 0.3900189 | 0.3386180 |\n",
       "| 0.6163629 | 0.6068602 | 0.5910641 | 0.5690369 | 0.5408655 | 0.5066611 | 0.4665587 | 0.4207165 | 0.3693156 | 0.3125587 |\n",
       "| 0.6434295 | 0.6276334 | 0.6056062 | 0.5774348 | 0.5432304 | 0.5031280 | 0.4572858 | 0.4058849 | 0.3491280 | 0.2872391 |\n",
       "\n"
      ],
      "text/plain": [
       "     t9        t8        t7        t6        t5        t4        t3       \n",
       "[1,] 0.5888370 0.5856653 0.5761626 0.5603665 0.5383393 0.5101679 0.4759635\n",
       "[2,] 0.6163629 0.6068602 0.5910641 0.5690369 0.5408655 0.5066611 0.4665587\n",
       "[3,] 0.6434295 0.6276334 0.6056062 0.5774348 0.5432304 0.5031280 0.4572858\n",
       "     t2        t1        t0       \n",
       "[1,] 0.4358611 0.3900189 0.3386180\n",
       "[2,] 0.4207165 0.3693156 0.3125587\n",
       "[3,] 0.4058849 0.3491280 0.2872391"
      ]
     },
     "metadata": {},
     "output_type": "display_data"
    },
    {
     "data": {
      "text/plain": [
       "       t0        \n",
       " Min.   :0.0500  \n",
       " 1st Qu.:0.1657  \n",
       " Median :0.5378  \n",
       " Mean   :0.5033  \n",
       " 3rd Qu.:0.8343  \n",
       " Max.   :0.9500  "
      ]
     },
     "metadata": {},
     "output_type": "display_data"
    },
    {
     "data": {
      "image/png": "[encoded data removed]",
      "text/plain": [
       "plot without title"
      ]
     },
     "metadata": {
      "image/png": {
       "height": 420,
       "width": 420
      }
     },
     "output_type": "display_data"
    }
   ],
   "source": [
    "preproc <- ts_an()\n",
    "preproc <- fit(preproc, ts)\n",
    "tst <- transform(preproc, ts)\n",
    "tshead(tst, 3)\n",
    "summary(tst[,10])\n",
    "#ploting the first window\n",
    "plot(as.vector(tst[1,]))"
   ]
  },
  {
   "cell_type": "markdown",
   "metadata": {},
   "source": [
    "### sliding window adaptive normalization\n",
    "Using nw parameter"
   ]
  },
  {
   "cell_type": "code",
   "execution_count": 8,
   "metadata": {},
   "outputs": [
    {
     "data": {
      "text/html": [
       "<table class=\"dataframe\">\n",
       "<caption>A matrix: 3 × 10 of type dbl</caption>\n",
       "<thead>\n",
       "\t<tr><th scope=col>t9</th><th scope=col>t8</th><th scope=col>t7</th><th scope=col>t6</th><th scope=col>t5</th><th scope=col>t4</th><th scope=col>t3</th><th scope=col>t2</th><th scope=col>t1</th><th scope=col>t0</th></tr>\n",
       "</thead>\n",
       "<tbody>\n",
       "\t<tr><td>0.6432297</td><td>0.6409659</td><td>0.6341833</td><td>0.6229088</td><td>0.6071868</td><td>0.5870793</td><td>0.5626658</td><td>0.5340425</td><td>0.5013225</td><td>0.4646349</td></tr>\n",
       "\t<tr><td>0.6776053</td><td>0.6708227</td><td>0.6595482</td><td>0.6438261</td><td>0.6237187</td><td>0.5993052</td><td>0.5706819</td><td>0.5379619</td><td>0.5012743</td><td>0.4607638</td></tr>\n",
       "\t<tr><td>0.7112799</td><td>0.7000053</td><td>0.6842833</td><td>0.6641759</td><td>0.6397623</td><td>0.6111391</td><td>0.5784191</td><td>0.5417315</td><td>0.5012210</td><td>0.4570475</td></tr>\n",
       "</tbody>\n",
       "</table>\n"
      ],
      "text/latex": [
       "A matrix: 3 × 10 of type dbl\n",
       "\\begin{tabular}{llllllllll}\n",
       " t9 & t8 & t7 & t6 & t5 & t4 & t3 & t2 & t1 & t0\\\\\n",
       "\\hline\n",
       "\t 0.6432297 & 0.6409659 & 0.6341833 & 0.6229088 & 0.6071868 & 0.5870793 & 0.5626658 & 0.5340425 & 0.5013225 & 0.4646349\\\\\n",
       "\t 0.6776053 & 0.6708227 & 0.6595482 & 0.6438261 & 0.6237187 & 0.5993052 & 0.5706819 & 0.5379619 & 0.5012743 & 0.4607638\\\\\n",
       "\t 0.7112799 & 0.7000053 & 0.6842833 & 0.6641759 & 0.6397623 & 0.6111391 & 0.5784191 & 0.5417315 & 0.5012210 & 0.4570475\\\\\n",
       "\\end{tabular}\n"
      ],
      "text/markdown": [
       "\n",
       "A matrix: 3 × 10 of type dbl\n",
       "\n",
       "| t9 | t8 | t7 | t6 | t5 | t4 | t3 | t2 | t1 | t0 |\n",
       "|---|---|---|---|---|---|---|---|---|---|\n",
       "| 0.6432297 | 0.6409659 | 0.6341833 | 0.6229088 | 0.6071868 | 0.5870793 | 0.5626658 | 0.5340425 | 0.5013225 | 0.4646349 |\n",
       "| 0.6776053 | 0.6708227 | 0.6595482 | 0.6438261 | 0.6237187 | 0.5993052 | 0.5706819 | 0.5379619 | 0.5012743 | 0.4607638 |\n",
       "| 0.7112799 | 0.7000053 | 0.6842833 | 0.6641759 | 0.6397623 | 0.6111391 | 0.5784191 | 0.5417315 | 0.5012210 | 0.4570475 |\n",
       "\n"
      ],
      "text/plain": [
       "     t9        t8        t7        t6        t5        t4        t3       \n",
       "[1,] 0.6432297 0.6409659 0.6341833 0.6229088 0.6071868 0.5870793 0.5626658\n",
       "[2,] 0.6776053 0.6708227 0.6595482 0.6438261 0.6237187 0.5993052 0.5706819\n",
       "[3,] 0.7112799 0.7000053 0.6842833 0.6641759 0.6397623 0.6111391 0.5784191\n",
       "     t2        t1        t0       \n",
       "[1,] 0.5340425 0.5013225 0.4646349\n",
       "[2,] 0.5379619 0.5012743 0.4607638\n",
       "[3,] 0.5417315 0.5012210 0.4570475"
      ]
     },
     "metadata": {},
     "output_type": "display_data"
    },
    {
     "data": {
      "text/plain": [
       "       t0        \n",
       " Min.   :0.4280  \n",
       " 1st Qu.:0.4465  \n",
       " Median :0.5090  \n",
       " Mean   :0.5014  \n",
       " 3rd Qu.:0.5535  \n",
       " Max.   :0.5720  "
      ]
     },
     "metadata": {},
     "output_type": "display_data"
    },
    {
     "data": {
      "image/png": "[encoded data removed]",
      "text/plain": [
       "plot without title"
      ]
     },
     "metadata": {
      "image/png": {
       "height": 420,
       "width": 420
      }
     },
     "output_type": "display_data"
    }
   ],
   "source": [
    "preproc <- ts_an(nw=3)\n",
    "preproc <- fit(preproc, ts)\n",
    "tst <- transform(preproc, ts)\n",
    "tshead(tst, 3)\n",
    "summary(tst[,10])\n",
    "#ploting the first window\n",
    "plot(as.vector(tst[1,]))"
   ]
  },
  {
   "cell_type": "markdown",
   "metadata": {},
   "source": [
    "### sliding window adaptive normalization (exponential moving average)"
   ]
  },
  {
   "cell_type": "code",
   "execution_count": 9,
   "metadata": {},
   "outputs": [
    {
     "data": {
      "text/html": [
       "<table class=\"dataframe\">\n",
       "<caption>A matrix: 3 × 10 of type dbl</caption>\n",
       "<thead>\n",
       "\t<tr><th scope=col>t9</th><th scope=col>t8</th><th scope=col>t7</th><th scope=col>t6</th><th scope=col>t5</th><th scope=col>t4</th><th scope=col>t3</th><th scope=col>t2</th><th scope=col>t1</th><th scope=col>t0</th></tr>\n",
       "</thead>\n",
       "<tbody>\n",
       "\t<tr><td>0.6250579</td><td>0.6221220</td><td>0.6133258</td><td>0.5987041</td><td>0.5783145</td><td>0.5522376</td><td>0.5205762</td><td>0.4834553</td><td>0.4410213</td><td>0.3934419</td></tr>\n",
       "\t<tr><td>0.6590724</td><td>0.6502762</td><td>0.6356545</td><td>0.6152649</td><td>0.5891879</td><td>0.5575265</td><td>0.5204056</td><td>0.4779717</td><td>0.4303922</td><td>0.3778550</td></tr>\n",
       "\t<tr><td>0.6924590</td><td>0.6778373</td><td>0.6574477</td><td>0.6313707</td><td>0.5997093</td><td>0.5625884</td><td>0.5201545</td><td>0.4725750</td><td>0.4200378</td><td>0.3627502</td></tr>\n",
       "</tbody>\n",
       "</table>\n"
      ],
      "text/latex": [
       "A matrix: 3 × 10 of type dbl\n",
       "\\begin{tabular}{llllllllll}\n",
       " t9 & t8 & t7 & t6 & t5 & t4 & t3 & t2 & t1 & t0\\\\\n",
       "\\hline\n",
       "\t 0.6250579 & 0.6221220 & 0.6133258 & 0.5987041 & 0.5783145 & 0.5522376 & 0.5205762 & 0.4834553 & 0.4410213 & 0.3934419\\\\\n",
       "\t 0.6590724 & 0.6502762 & 0.6356545 & 0.6152649 & 0.5891879 & 0.5575265 & 0.5204056 & 0.4779717 & 0.4303922 & 0.3778550\\\\\n",
       "\t 0.6924590 & 0.6778373 & 0.6574477 & 0.6313707 & 0.5997093 & 0.5625884 & 0.5201545 & 0.4725750 & 0.4200378 & 0.3627502\\\\\n",
       "\\end{tabular}\n"
      ],
      "text/markdown": [
       "\n",
       "A matrix: 3 × 10 of type dbl\n",
       "\n",
       "| t9 | t8 | t7 | t6 | t5 | t4 | t3 | t2 | t1 | t0 |\n",
       "|---|---|---|---|---|---|---|---|---|---|\n",
       "| 0.6250579 | 0.6221220 | 0.6133258 | 0.5987041 | 0.5783145 | 0.5522376 | 0.5205762 | 0.4834553 | 0.4410213 | 0.3934419 |\n",
       "| 0.6590724 | 0.6502762 | 0.6356545 | 0.6152649 | 0.5891879 | 0.5575265 | 0.5204056 | 0.4779717 | 0.4303922 | 0.3778550 |\n",
       "| 0.6924590 | 0.6778373 | 0.6574477 | 0.6313707 | 0.5997093 | 0.5625884 | 0.5201545 | 0.4725750 | 0.4200378 | 0.3627502 |\n",
       "\n"
      ],
      "text/plain": [
       "     t9        t8        t7        t6        t5        t4        t3       \n",
       "[1,] 0.6250579 0.6221220 0.6133258 0.5987041 0.5783145 0.5522376 0.5205762\n",
       "[2,] 0.6590724 0.6502762 0.6356545 0.6152649 0.5891879 0.5575265 0.5204056\n",
       "[3,] 0.6924590 0.6778373 0.6574477 0.6313707 0.5997093 0.5625884 0.5201545\n",
       "     t2        t1        t0       \n",
       "[1,] 0.4834553 0.4410213 0.3934419\n",
       "[2,] 0.4779717 0.4303922 0.3778550\n",
       "[3,] 0.4725750 0.4200378 0.3627502"
      ]
     },
     "metadata": {},
     "output_type": "display_data"
    },
    {
     "data": {
      "text/plain": [
       "       t0        \n",
       " Min.   :0.2269  \n",
       " 1st Qu.:0.2958  \n",
       " Median :0.5321  \n",
       " Mean   :0.5028  \n",
       " 3rd Qu.:0.7042  \n",
       " Max.   :0.7731  "
      ]
     },
     "metadata": {},
     "output_type": "display_data"
    },
    {
     "data": {
      "image/png": "[encoded data removed]",
      "text/plain": [
       "plot without title"
      ]
     },
     "metadata": {
      "image/png": {
       "height": 420,
       "width": 420
      }
     },
     "output_type": "display_data"
    }
   ],
   "source": [
    "preproc <- ts_ean()\n",
    "preproc <- fit(preproc, ts)\n",
    "tst <- transform(preproc, ts)\n",
    "tshead(tst, 3)\n",
    "summary(tst[,10])\n",
    "#ploting the first window\n",
    "plot(as.vector(tst[1,]))"
   ]
  },
  {
   "cell_type": "markdown",
   "metadata": {},
   "source": [
    "### sliding window adaptive normalization (exponential moving average)\n",
    "using nw parameter"
   ]
  },
  {
   "cell_type": "code",
   "execution_count": 10,
   "metadata": {},
   "outputs": [
    {
     "data": {
      "text/html": [
       "<table class=\"dataframe\">\n",
       "<caption>A matrix: 3 × 10 of type dbl</caption>\n",
       "<thead>\n",
       "\t<tr><th scope=col>t9</th><th scope=col>t8</th><th scope=col>t7</th><th scope=col>t6</th><th scope=col>t5</th><th scope=col>t4</th><th scope=col>t3</th><th scope=col>t2</th><th scope=col>t1</th><th scope=col>t0</th></tr>\n",
       "</thead>\n",
       "<tbody>\n",
       "\t<tr><td>0.6491567</td><td>0.6470222</td><td>0.6406272</td><td>0.6299970</td><td>0.6151735</td><td>0.5962151</td><td>0.5731968</td><td>0.5462093</td><td>0.5153591</td><td>0.4807681</td></tr>\n",
       "\t<tr><td>0.6831385</td><td>0.6767435</td><td>0.6661133</td><td>0.6512897</td><td>0.6323314</td><td>0.6093130</td><td>0.5823255</td><td>0.5514754</td><td>0.5168844</td><td>0.4786890</td></tr>\n",
       "\t<tr><td>0.7163975</td><td>0.7057673</td><td>0.6909437</td><td>0.6719854</td><td>0.6489670</td><td>0.6219795</td><td>0.5911294</td><td>0.5565384</td><td>0.5183430</td><td>0.4766939</td></tr>\n",
       "</tbody>\n",
       "</table>\n"
      ],
      "text/latex": [
       "A matrix: 3 × 10 of type dbl\n",
       "\\begin{tabular}{llllllllll}\n",
       " t9 & t8 & t7 & t6 & t5 & t4 & t3 & t2 & t1 & t0\\\\\n",
       "\\hline\n",
       "\t 0.6491567 & 0.6470222 & 0.6406272 & 0.6299970 & 0.6151735 & 0.5962151 & 0.5731968 & 0.5462093 & 0.5153591 & 0.4807681\\\\\n",
       "\t 0.6831385 & 0.6767435 & 0.6661133 & 0.6512897 & 0.6323314 & 0.6093130 & 0.5823255 & 0.5514754 & 0.5168844 & 0.4786890\\\\\n",
       "\t 0.7163975 & 0.7057673 & 0.6909437 & 0.6719854 & 0.6489670 & 0.6219795 & 0.5911294 & 0.5565384 & 0.5183430 & 0.4766939\\\\\n",
       "\\end{tabular}\n"
      ],
      "text/markdown": [
       "\n",
       "A matrix: 3 × 10 of type dbl\n",
       "\n",
       "| t9 | t8 | t7 | t6 | t5 | t4 | t3 | t2 | t1 | t0 |\n",
       "|---|---|---|---|---|---|---|---|---|---|\n",
       "| 0.6491567 | 0.6470222 | 0.6406272 | 0.6299970 | 0.6151735 | 0.5962151 | 0.5731968 | 0.5462093 | 0.5153591 | 0.4807681 |\n",
       "| 0.6831385 | 0.6767435 | 0.6661133 | 0.6512897 | 0.6323314 | 0.6093130 | 0.5823255 | 0.5514754 | 0.5168844 | 0.4786890 |\n",
       "| 0.7163975 | 0.7057673 | 0.6909437 | 0.6719854 | 0.6489670 | 0.6219795 | 0.5911294 | 0.5565384 | 0.5183430 | 0.4766939 |\n",
       "\n"
      ],
      "text/plain": [
       "     t9        t8        t7        t6        t5        t4        t3       \n",
       "[1,] 0.6491567 0.6470222 0.6406272 0.6299970 0.6151735 0.5962151 0.5731968\n",
       "[2,] 0.6831385 0.6767435 0.6661133 0.6512897 0.6323314 0.6093130 0.5823255\n",
       "[3,] 0.7163975 0.7057673 0.6909437 0.6719854 0.6489670 0.6219795 0.5911294\n",
       "     t2        t1        t0       \n",
       "[1,] 0.5462093 0.5153591 0.4807681\n",
       "[2,] 0.5514754 0.5168844 0.4786890\n",
       "[3,] 0.5565384 0.5183430 0.4766939"
      ]
     },
     "metadata": {},
     "output_type": "display_data"
    },
    {
     "data": {
      "text/plain": [
       "       t0        \n",
       " Min.   :0.4612  \n",
       " 1st Qu.:0.4711  \n",
       " Median :0.5049  \n",
       " Mean   :0.5008  \n",
       " 3rd Qu.:0.5289  \n",
       " Max.   :0.5388  "
      ]
     },
     "metadata": {},
     "output_type": "display_data"
    },
    {
     "data": {
      "image/png": "[encoded data removed]",
      "text/plain": [
       "plot without title"
      ]
     },
     "metadata": {
      "image/png": {
       "height": 420,
       "width": 420
      }
     },
     "output_type": "display_data"
    }
   ],
   "source": [
    "preproc <- ts_ean(nw = 3)\n",
    "preproc <- fit(preproc, ts)\n",
    "tst <- transform(preproc, ts)\n",
    "tshead(tst, 3)\n",
    "summary(tst[,10])\n",
    "#ploting the first window\n",
    "plot(as.vector(tst[1,]))"
   ]
  },
  {
   "cell_type": "code",
   "execution_count": null,
   "metadata": {},
   "outputs": [],
   "source": []
  }
 ],
 "metadata": {
  "kernelspec": {
   "display_name": "R",
   "language": "R",
   "name": "ir"
  },
  "language_info": {
   "codemirror_mode": "r",
   "file_extension": ".r",
   "mimetype": "text/x-r-source",
   "name": "R",
   "pygments_lexer": "r",
   "version": "4.3.0"
  }
 },
 "nbformat": 4,
 "nbformat_minor": 2
}
