{
 "cells": [
  {
   "cell_type": "code",
   "execution_count": 1,
   "metadata": {},
   "outputs": [
    {
     "name": "stderr",
     "output_type": "stream",
     "text": [
      "Loading required package: daltoolbox\n",
      "\n",
      "Registered S3 method overwritten by 'quantmod':\n",
      "  method            from\n",
      "  as.zoo.data.frame zoo \n",
      "\n",
      "Warning message:\n",
      "“replacing previous import ‘dplyr::filter’ by ‘stats::filter’ when loading ‘daltoolbox’”\n",
      "\n",
      "Attaching package: ‘daltoolbox’\n",
      "\n",
      "\n",
      "The following objects are masked from ‘package:base’:\n",
      "\n",
      "    jitter, transform\n",
      "\n",
      "\n"
     ]
    }
   ],
   "source": [
    "# DAL Library\n",
    "# version 1.0.50\n",
    "\n",
    "source(\"https://raw.githubusercontent.com/cefet-rj-dal/dal/main/examples/jupyter_daltoolbox.R\")\n",
    "\n",
    "#loading DAL\n",
    "load_daltoolbox() "
   ]
  },
  {
   "cell_type": "markdown",
   "metadata": {},
   "source": [
    "## Discretization & smoothing\n",
    "Discretization is the process of transferring continuous functions, models, variables, and equations into discrete counterparts. \n",
    "\n",
    "Smoothing is a technique that creates an approximating function that attempts to capture important patterns in the data while leaving out noise or other fine-scale structures/rapid phenomena.\n",
    "\n",
    "An important part of the discretization/smoothing is to set up bins for proceeding the approximation."
   ]
  },
  {
   "cell_type": "markdown",
   "metadata": {},
   "source": [
    "## general function to evaluate different smoothing technique"
   ]
  },
  {
   "cell_type": "code",
   "execution_count": 2,
   "metadata": {},
   "outputs": [
    {
     "data": {
      "text/html": [
       "<table class=\"dataframe\">\n",
       "<caption>A data.frame: 6 × 5</caption>\n",
       "<thead>\n",
       "\t<tr><th></th><th scope=col>Sepal.Length</th><th scope=col>Sepal.Width</th><th scope=col>Petal.Length</th><th scope=col>Petal.Width</th><th scope=col>Species</th></tr>\n",
       "\t<tr><th></th><th scope=col>&lt;dbl&gt;</th><th scope=col>&lt;dbl&gt;</th><th scope=col>&lt;dbl&gt;</th><th scope=col>&lt;dbl&gt;</th><th scope=col>&lt;fct&gt;</th></tr>\n",
       "</thead>\n",
       "<tbody>\n",
       "\t<tr><th scope=row>1</th><td>5.1</td><td>3.5</td><td>1.4</td><td>0.2</td><td>setosa</td></tr>\n",
       "\t<tr><th scope=row>2</th><td>4.9</td><td>3.0</td><td>1.4</td><td>0.2</td><td>setosa</td></tr>\n",
       "\t<tr><th scope=row>3</th><td>4.7</td><td>3.2</td><td>1.3</td><td>0.2</td><td>setosa</td></tr>\n",
       "\t<tr><th scope=row>4</th><td>4.6</td><td>3.1</td><td>1.5</td><td>0.2</td><td>setosa</td></tr>\n",
       "\t<tr><th scope=row>5</th><td>5.0</td><td>3.6</td><td>1.4</td><td>0.2</td><td>setosa</td></tr>\n",
       "\t<tr><th scope=row>6</th><td>5.4</td><td>3.9</td><td>1.7</td><td>0.4</td><td>setosa</td></tr>\n",
       "</tbody>\n",
       "</table>\n"
      ],
      "text/latex": [
       "A data.frame: 6 × 5\n",
       "\\begin{tabular}{r|lllll}\n",
       "  & Sepal.Length & Sepal.Width & Petal.Length & Petal.Width & Species\\\\\n",
       "  & <dbl> & <dbl> & <dbl> & <dbl> & <fct>\\\\\n",
       "\\hline\n",
       "\t1 & 5.1 & 3.5 & 1.4 & 0.2 & setosa\\\\\n",
       "\t2 & 4.9 & 3.0 & 1.4 & 0.2 & setosa\\\\\n",
       "\t3 & 4.7 & 3.2 & 1.3 & 0.2 & setosa\\\\\n",
       "\t4 & 4.6 & 3.1 & 1.5 & 0.2 & setosa\\\\\n",
       "\t5 & 5.0 & 3.6 & 1.4 & 0.2 & setosa\\\\\n",
       "\t6 & 5.4 & 3.9 & 1.7 & 0.4 & setosa\\\\\n",
       "\\end{tabular}\n"
      ],
      "text/markdown": [
       "\n",
       "A data.frame: 6 × 5\n",
       "\n",
       "| <!--/--> | Sepal.Length &lt;dbl&gt; | Sepal.Width &lt;dbl&gt; | Petal.Length &lt;dbl&gt; | Petal.Width &lt;dbl&gt; | Species &lt;fct&gt; |\n",
       "|---|---|---|---|---|---|\n",
       "| 1 | 5.1 | 3.5 | 1.4 | 0.2 | setosa |\n",
       "| 2 | 4.9 | 3.0 | 1.4 | 0.2 | setosa |\n",
       "| 3 | 4.7 | 3.2 | 1.3 | 0.2 | setosa |\n",
       "| 4 | 4.6 | 3.1 | 1.5 | 0.2 | setosa |\n",
       "| 5 | 5.0 | 3.6 | 1.4 | 0.2 | setosa |\n",
       "| 6 | 5.4 | 3.9 | 1.7 | 0.4 | setosa |\n",
       "\n"
      ],
      "text/plain": [
       "  Sepal.Length Sepal.Width Petal.Length Petal.Width Species\n",
       "1 5.1          3.5         1.4          0.2         setosa \n",
       "2 4.9          3.0         1.4          0.2         setosa \n",
       "3 4.7          3.2         1.3          0.2         setosa \n",
       "4 4.6          3.1         1.5          0.2         setosa \n",
       "5 5.0          3.6         1.4          0.2         setosa \n",
       "6 5.4          3.9         1.7          0.4         setosa "
      ]
     },
     "metadata": {},
     "output_type": "display_data"
    }
   ],
   "source": [
    "iris <- datasets::iris\n",
    "head(iris)"
   ]
  },
  {
   "cell_type": "code",
   "execution_count": 3,
   "metadata": {},
   "outputs": [
    {
     "name": "stdout",
     "output_type": "stream",
     "text": [
      "sl.bi\n",
      "5.32842105263158 6.73272727272727 \n",
      "              95               55 \n"
     ]
    },
    {
     "data": {
      "text/html": [
       "<style>\n",
       ".list-inline {list-style: none; margin:0; padding: 0}\n",
       ".list-inline>li {display: inline-block}\n",
       ".list-inline>li:not(:last-child)::after {content: \"\\00b7\"; padding: 0 .5ex}\n",
       "</style>\n",
       "<ol class=list-inline><li>4.3</li><li>6.1</li><li>7.9</li></ol>\n"
      ],
      "text/latex": [
       "\\begin{enumerate*}\n",
       "\\item 4.3\n",
       "\\item 6.1\n",
       "\\item 7.9\n",
       "\\end{enumerate*}\n"
      ],
      "text/markdown": [
       "1. 4.3\n",
       "2. 6.1\n",
       "3. 7.9\n",
       "\n",
       "\n"
      ],
      "text/plain": [
       "[1] 4.3 6.1 7.9"
      ]
     },
     "metadata": {},
     "output_type": "display_data"
    }
   ],
   "source": [
    "# smoothing using regular interval\n",
    "obj <- smoothing_inter(n = 2)  \n",
    "obj <- fit(obj, iris$Sepal.Length)\n",
    "sl.bi <- transform(obj, iris$Sepal.Length)\n",
    "print(table(sl.bi))\n",
    "obj$interval"
   ]
  },
  {
   "cell_type": "code",
   "execution_count": 4,
   "metadata": {},
   "outputs": [
    {
     "name": "stdout",
     "output_type": "stream",
     "text": [
      "[1] 1.191734\n"
     ]
    }
   ],
   "source": [
    "entro <- smoothing_evaluation(as.factor(names(sl.bi)), iris$Species)\n",
    "print(entro$entropy)"
   ]
  },
  {
   "cell_type": "code",
   "execution_count": 5,
   "metadata": {},
   "outputs": [
    {
     "name": "stdout",
     "output_type": "stream",
     "text": [
      "sl.bi\n",
      "5.19875    6.58 \n",
      "     80      70 \n"
     ]
    },
    {
     "data": {
      "text/html": [
       "<style>\n",
       ".list-inline {list-style: none; margin:0; padding: 0}\n",
       ".list-inline>li {display: inline-block}\n",
       ".list-inline>li:not(:last-child)::after {content: \"\\00b7\"; padding: 0 .5ex}\n",
       "</style>\n",
       "<ol class=list-inline><li>4.3</li><li>5.8</li><li>7.9</li></ol>\n"
      ],
      "text/latex": [
       "\\begin{enumerate*}\n",
       "\\item 4.3\n",
       "\\item 5.8\n",
       "\\item 7.9\n",
       "\\end{enumerate*}\n"
      ],
      "text/markdown": [
       "1. 4.3\n",
       "2. 5.8\n",
       "3. 7.9\n",
       "\n",
       "\n"
      ],
      "text/plain": [
       "[1] 4.3 5.8 7.9"
      ]
     },
     "metadata": {},
     "output_type": "display_data"
    }
   ],
   "source": [
    "# smoothing using regular frequency\n",
    "\n",
    "obj <- smoothing_freq(n = 2)  \n",
    "obj <- fit(obj, iris$Sepal.Length)\n",
    "sl.bi <- transform(obj, iris$Sepal.Length)\n",
    "print(table(sl.bi))\n",
    "obj$interval"
   ]
  },
  {
   "cell_type": "code",
   "execution_count": 6,
   "metadata": {},
   "outputs": [
    {
     "name": "stdout",
     "output_type": "stream",
     "text": [
      "[1] 1.097573\n"
     ]
    }
   ],
   "source": [
    "entro <- smoothing_evaluation(as.factor(names(sl.bi)), iris$Species)\n",
    "print(entro$entropy)"
   ]
  },
  {
   "cell_type": "code",
   "execution_count": 7,
   "metadata": {},
   "outputs": [
    {
     "name": "stdout",
     "output_type": "stream",
     "text": [
      "sl.bi\n",
      "5.22409638554217 6.61044776119403 \n",
      "              83               67 \n"
     ]
    },
    {
     "data": {
      "text/html": [
       "<style>\n",
       ".list-inline {list-style: none; margin:0; padding: 0}\n",
       ".list-inline>li {display: inline-block}\n",
       ".list-inline>li:not(:last-child)::after {content: \"\\00b7\"; padding: 0 .5ex}\n",
       "</style>\n",
       "<ol class=list-inline><li>4.3</li><li>5.9172720733681</li><li>7.9</li></ol>\n"
      ],
      "text/latex": [
       "\\begin{enumerate*}\n",
       "\\item 4.3\n",
       "\\item 5.9172720733681\n",
       "\\item 7.9\n",
       "\\end{enumerate*}\n"
      ],
      "text/markdown": [
       "1. 4.3\n",
       "2. 5.9172720733681\n",
       "3. 7.9\n",
       "\n",
       "\n"
      ],
      "text/plain": [
       "[1] 4.300000 5.917272 7.900000"
      ]
     },
     "metadata": {},
     "output_type": "display_data"
    }
   ],
   "source": [
    "# smoothing using clustering\n",
    "obj <- smoothing_cluster(n = 2)  \n",
    "obj <- fit(obj, iris$Sepal.Length)\n",
    "sl.bi <- transform(obj, iris$Sepal.Length)\n",
    "print(table(sl.bi))\n",
    "obj$interval"
   ]
  },
  {
   "cell_type": "code",
   "execution_count": 8,
   "metadata": {},
   "outputs": [
    {
     "name": "stdout",
     "output_type": "stream",
     "text": [
      "[1] 1.12088\n"
     ]
    }
   ],
   "source": [
    "entro <- smoothing_evaluation(as.factor(names(sl.bi)), iris$Species)\n",
    "print(entro$entropy)"
   ]
  },
  {
   "cell_type": "markdown",
   "metadata": {},
   "source": [
    "## Optimizing the number of binnings"
   ]
  },
  {
   "cell_type": "code",
   "execution_count": 9,
   "metadata": {},
   "outputs": [
    {
     "ename": "ERROR",
     "evalue": "Error in f(arg, ...): could not find function \"f\"\n",
     "output_type": "error",
     "traceback": [
      "Error in f(arg, ...): could not find function \"f\"\nTraceback:\n",
      "1. optimize(opt_obj, iris$Sepal.Length, do_plot = TRUE)",
      "2. (function (arg) \n . f(arg, ...))(5.67507764050038)"
     ]
    }
   ],
   "source": [
    "opt_obj <- smoothing_inter(n=20)\n",
    "obj <- optimize(opt_obj, iris$Sepal.Length, do_plot=TRUE)\n",
    "obj$n"
   ]
  },
  {
   "cell_type": "code",
   "execution_count": 10,
   "metadata": {},
   "outputs": [
    {
     "name": "stdout",
     "output_type": "stream",
     "text": [
      "sl.bi\n",
      "4.52727272727273 5.00294117647059             5.49 5.88333333333333 \n",
      "              11               34               20               30 \n",
      "           6.352 6.76666666666667 7.23333333333333 7.71666666666667 \n",
      "              25               18                6                6 \n"
     ]
    }
   ],
   "source": [
    "obj <- fit(obj, iris$Sepal.Length)\n",
    "sl.bi <- transform(obj, iris$Sepal.Length)\n",
    "print(table(sl.bi))"
   ]
  },
  {
   "cell_type": "code",
   "execution_count": 11,
   "metadata": {},
   "outputs": [
    {
     "data": {
      "text/html": [
       "8"
      ],
      "text/latex": [
       "8"
      ],
      "text/markdown": [
       "8"
      ],
      "text/plain": [
       "[1] 8"
      ]
     },
     "metadata": {},
     "output_type": "display_data"
    },
    {
     "data": {
      "image/png": "[encoded data removed]",
      "text/plain": [
       "plot without title"
      ]
     },
     "metadata": {
      "image/png": {
       "height": 420,
       "width": 420
      }
     },
     "output_type": "display_data"
    }
   ],
   "source": [
    "opt_obj <- smoothing_freq(n=20)\n",
    "obj <- optimize(opt_obj, iris$Sepal.Length, do_plot=TRUE)\n",
    "obj$n"
   ]
  },
  {
   "cell_type": "code",
   "execution_count": 12,
   "metadata": {},
   "outputs": [
    {
     "name": "stdout",
     "output_type": "stream",
     "text": [
      "sl.bi\n",
      "4.69090909090909 5.04736842105263 5.38888888888889  5.7047619047619 \n",
      "              22               19               18               21 \n",
      "            6.02            6.315             6.65 7.31176470588235 \n",
      "              15               20               18               17 \n"
     ]
    }
   ],
   "source": [
    "obj <- fit(obj, iris$Sepal.Length)\n",
    "sl.bi <- transform(obj, iris$Sepal.Length)\n",
    "print(table(sl.bi))"
   ]
  },
  {
   "cell_type": "code",
   "execution_count": null,
   "metadata": {},
   "outputs": [],
   "source": []
  }
 ],
 "metadata": {
  "kernelspec": {
   "display_name": "R",
   "language": "R",
   "name": "ir"
  },
  "language_info": {
   "codemirror_mode": "r",
   "file_extension": ".r",
   "mimetype": "text/x-r-source",
   "name": "R",
   "pygments_lexer": "r",
   "version": "4.3.0"
  }
 },
 "nbformat": 4,
 "nbformat_minor": 2
}
