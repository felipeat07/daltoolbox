{
 "cells": [
  {
   "cell_type": "markdown",
   "metadata": {},
   "source": [
    "## Feature Selection"
   ]
  },
  {
   "cell_type": "code",
   "execution_count": 1,
   "metadata": {},
   "outputs": [
    {
     "name": "stderr",
     "output_type": "stream",
     "text": [
      "Loading required package: dal\n",
      "\n",
      "Warning message:\n",
      "“replacing previous import ‘FNN::knn.cv’ by ‘class::knn.cv’ when loading ‘dal’”\n",
      "Warning message:\n",
      "“replacing previous import ‘FNN::knn’ by ‘class::knn’ when loading ‘dal’”\n",
      "Registered S3 method overwritten by 'quantmod':\n",
      "  method            from\n",
      "  as.zoo.data.frame zoo \n",
      "\n",
      "Warning message:\n",
      "“replacing previous import ‘dbscan::dbscan’ by ‘fpc::dbscan’ when loading ‘dal’”\n",
      "Warning message:\n",
      "“replacing previous import ‘dplyr::combine’ by ‘randomForest::combine’ when loading ‘dal’”\n",
      "Warning message:\n",
      "“replacing previous import ‘Matrix::cov2cor’ by ‘stats::cov2cor’ when loading ‘dal’”\n",
      "Warning message:\n",
      "“replacing previous import ‘dbscan::as.dendrogram’ by ‘stats::as.dendrogram’ when loading ‘dal’”\n",
      "Warning message:\n",
      "“replacing previous import ‘dplyr::filter’ by ‘stats::filter’ when loading ‘dal’”\n",
      "Warning message:\n",
      "“replacing previous import ‘dplyr::lag’ by ‘stats::lag’ when loading ‘dal’”\n",
      "Warning message:\n",
      "“replacing previous import ‘Matrix::toeplitz’ by ‘stats::toeplitz’ when loading ‘dal’”\n",
      "Warning message:\n",
      "“replacing previous import ‘Matrix::update’ by ‘stats::update’ when loading ‘dal’”\n",
      "\n",
      "Attaching package: ‘dal’\n",
      "\n",
      "\n",
      "The following object is masked from ‘package:stats’:\n",
      "\n",
      "    optimize\n",
      "\n",
      "\n",
      "The following objects are masked from ‘package:base’:\n",
      "\n",
      "    jitter, transform\n",
      "\n",
      "\n",
      "Loading required package: leaps\n",
      "\n",
      "Loading required package: glmnet\n",
      "\n",
      "Loading required package: Matrix\n",
      "\n",
      "Loaded glmnet 4.1-4\n",
      "\n",
      "Loading required package: FSelector\n",
      "\n",
      "Loading required package: doBy\n",
      "\n"
     ]
    }
   ],
   "source": [
    "# DAL Library\n",
    "# version 1.0.24\n",
    "\n",
    "source(\"https://raw.githubusercontent.com/cefet-rj-dal/dal/main/examples/jupyter_dal.R\")\n",
    "\n",
    "#loading DAL\n",
    "load_dal() \n",
    "loadlibrary(\"leaps\")  \n",
    "loadlibrary(\"glmnet\")\n",
    "loadlibrary(\"FSelector\")\n",
    "loadlibrary(\"doBy\")"
   ]
  },
  {
   "cell_type": "markdown",
   "metadata": {},
   "source": [
    "### Example\n",
    "General function for exploring feature selection methods\n"
   ]
  },
  {
   "cell_type": "code",
   "execution_count": 2,
   "metadata": {},
   "outputs": [],
   "source": [
    "iris <- datasets::iris"
   ]
  },
  {
   "cell_type": "markdown",
   "metadata": {},
   "source": [
    "### Lasso"
   ]
  },
  {
   "cell_type": "code",
   "execution_count": 3,
   "metadata": {},
   "outputs": [
    {
     "name": "stdout",
     "output_type": "stream",
     "text": [
      "[1] \"Sepal.Width\"  \"Petal.Length\" \"Petal.Width\" \n",
      "  Sepal.Width Petal.Length Petal.Width Species\n",
      "1         3.5          1.4         0.2  setosa\n",
      "2         3.0          1.4         0.2  setosa\n",
      "3         3.2          1.3         0.2  setosa\n",
      "4         3.1          1.5         0.2  setosa\n",
      "5         3.6          1.4         0.2  setosa\n",
      "6         3.9          1.7         0.4  setosa\n"
     ]
    }
   ],
   "source": [
    "myfeature <- fit(feature_selection_lasso(\"Species\"), iris)\n",
    "print(myfeature$features)\n",
    "data <- transform(myfeature, iris)\n",
    "print(head(data))"
   ]
  },
  {
   "cell_type": "markdown",
   "metadata": {},
   "source": [
    "### FSS"
   ]
  },
  {
   "cell_type": "code",
   "execution_count": 4,
   "metadata": {},
   "outputs": [
    {
     "name": "stdout",
     "output_type": "stream",
     "text": [
      "[1] \"Sepal.Length\" \"Petal.Length\" \"Petal.Width\" \n",
      "  Sepal.Length Petal.Length Petal.Width Species\n",
      "1          5.1          1.4         0.2  setosa\n",
      "2          4.9          1.4         0.2  setosa\n",
      "3          4.7          1.3         0.2  setosa\n",
      "4          4.6          1.5         0.2  setosa\n",
      "5          5.0          1.4         0.2  setosa\n",
      "6          5.4          1.7         0.4  setosa\n"
     ]
    }
   ],
   "source": [
    "myfeature <- fit(feature_selection_fss(\"Species\"), iris)\n",
    "print(myfeature$features)\n",
    "data <- transform(myfeature, iris)\n",
    "print(head(data))"
   ]
  },
  {
   "cell_type": "markdown",
   "metadata": {},
   "source": [
    "### IG\n"
   ]
  },
  {
   "cell_type": "code",
   "execution_count": 5,
   "metadata": {},
   "outputs": [
    {
     "name": "stdout",
     "output_type": "stream",
     "text": [
      "[1] \"Petal.Width\"  \"Petal.Length\"\n",
      "  Petal.Width Petal.Length Species\n",
      "1         0.2          1.4  setosa\n",
      "2         0.2          1.4  setosa\n",
      "3         0.2          1.3  setosa\n",
      "4         0.2          1.5  setosa\n",
      "5         0.2          1.4  setosa\n",
      "6         0.4          1.7  setosa\n"
     ]
    }
   ],
   "source": [
    "myfeature <- fit(feature_selection_ig(\"Species\"), iris)\n",
    "print(myfeature$features)\n",
    "data <- transform(myfeature, iris)\n",
    "print(head(data))"
   ]
  },
  {
   "cell_type": "markdown",
   "metadata": {},
   "source": [
    "### Relief"
   ]
  },
  {
   "cell_type": "code",
   "execution_count": 6,
   "metadata": {},
   "outputs": [
    {
     "name": "stdout",
     "output_type": "stream",
     "text": [
      "[1] \"Petal.Width\"  \"Petal.Length\"\n",
      "  Petal.Width Petal.Length Species\n",
      "1         0.2          1.4  setosa\n",
      "2         0.2          1.4  setosa\n",
      "3         0.2          1.3  setosa\n",
      "4         0.2          1.5  setosa\n",
      "5         0.2          1.4  setosa\n",
      "6         0.4          1.7  setosa\n"
     ]
    }
   ],
   "source": [
    "myfeature <- fit(feature_selection_relief(\"Species\"), iris)\n",
    "print(myfeature$features)\n",
    "data <- transform(myfeature, iris)\n",
    "print(head(data))"
   ]
  },
  {
   "cell_type": "code",
   "execution_count": null,
   "metadata": {},
   "outputs": [],
   "source": []
  }
 ],
 "metadata": {
  "kernelspec": {
   "display_name": "R",
   "language": "R",
   "name": "ir"
  },
  "language_info": {
   "codemirror_mode": "r",
   "file_extension": ".r",
   "mimetype": "text/x-r-source",
   "name": "R",
   "pygments_lexer": "r",
   "version": "4.2.3"
  }
 },
 "nbformat": 4,
 "nbformat_minor": 2
}
