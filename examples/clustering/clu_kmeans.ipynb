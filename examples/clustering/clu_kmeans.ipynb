{
 "cells": [
  {
   "cell_type": "markdown",
   "metadata": {},
   "source": [
    "# Clustering - Kmeans\n"
   ]
  },
  {
   "cell_type": "code",
   "execution_count": 1,
   "metadata": {},
   "outputs": [
    {
     "name": "stderr",
     "output_type": "stream",
     "text": [
      "Loading required package: daltoolbox\n",
      "\n",
      "Registered S3 method overwritten by 'quantmod':\n",
      "  method            from\n",
      "  as.zoo.data.frame zoo \n",
      "\n",
      "Warning message:\n",
      "“replacing previous import ‘dplyr::filter’ by ‘stats::filter’ when loading ‘daltoolbox’”\n",
      "\n",
      "Attaching package: ‘daltoolbox’\n",
      "\n",
      "\n",
      "The following object is masked from ‘package:base’:\n",
      "\n",
      "    transform\n",
      "\n",
      "\n"
     ]
    }
   ],
   "source": [
    "# DAL Library\n",
    "# version 1.0.50\n",
    "\n",
    "source(\"https://raw.githubusercontent.com/cefet-rj-dal/dal/main/examples/jupyter_daltoolbox.R\")\n",
    "\n",
    "#loading DAL\n",
    "load_daltoolbox()  "
   ]
  },
  {
   "cell_type": "code",
   "execution_count": 2,
   "metadata": {},
   "outputs": [],
   "source": [
    "iris <- datasets::iris"
   ]
  },
  {
   "cell_type": "markdown",
   "metadata": {},
   "source": [
    "General entropy of dataset"
   ]
  },
  {
   "cell_type": "code",
   "execution_count": 3,
   "metadata": {},
   "outputs": [
    {
     "name": "stdout",
     "output_type": "stream",
     "text": [
      "[1] 1.584963\n"
     ]
    }
   ],
   "source": [
    "eval <- cluster_evaluation(rep(1, nrow(iris)), iris$Species)\n",
    "print(eval$entropy)"
   ]
  },
  {
   "cell_type": "markdown",
   "metadata": {},
   "source": [
    "## General function to test clustering methods"
   ]
  },
  {
   "cell_type": "code",
   "execution_count": 4,
   "metadata": {},
   "outputs": [],
   "source": [
    "test_clustering <- function(model, data, attribute) {\n",
    "  describe(model)\n",
    "  clu <- fit(model, data)\n",
    "  print(table(clu))\n",
    "  eval <- cluster_evaluation(clu, attribute)\n",
    "  print(eval$entropy)\n",
    "}"
   ]
  },
  {
   "cell_type": "code",
   "execution_count": 5,
   "metadata": {},
   "outputs": [
    {
     "name": "stdout",
     "output_type": "stream",
     "text": [
      "clu\n",
      " 1  2  3 \n",
      "33 21 96 \n",
      "[1] 0.7375436\n"
     ]
    }
   ],
   "source": [
    "# kmeans with k equals 3\n",
    "test_clustering(cluster_kmeans(k=3), iris[,1:4], iris[,5])"
   ]
  },
  {
   "cell_type": "markdown",
   "metadata": {},
   "source": [
    "## Influence of normalization in clustering"
   ]
  },
  {
   "cell_type": "code",
   "execution_count": 6,
   "metadata": {},
   "outputs": [
    {
     "name": "stdout",
     "output_type": "stream",
     "text": [
      "clu\n",
      " 1  2  3  4  5  6  7  8 \n",
      "21 12 18 26 23 12 17 21 \n",
      "[1] 0.1583324\n"
     ]
    }
   ],
   "source": [
    "norm_minmax <- fit(minmax(), iris)\n",
    "iris_minmax <- transform(norm_minmax, iris)\n",
    "test_clustering(cluster_kmeans(k=8), iris_minmax[,1:4], iris_minmax[,5])"
   ]
  },
  {
   "cell_type": "code",
   "execution_count": 7,
   "metadata": {},
   "outputs": [
    {
     "name": "stdout",
     "output_type": "stream",
     "text": [
      "clu\n",
      " 1  2  3  4  5  6  7  8 \n",
      "25 21 26 21 11 24 17  5 \n",
      "[1] 0.2449764\n"
     ]
    }
   ],
   "source": [
    "norm_zscore <- fit(zscore(), iris)\n",
    "iris_zscore <- transform(norm_zscore, iris)\n",
    "# kmeans with k equals 8\n",
    "test_clustering(cluster_kmeans(k=8), iris_zscore[,1:4], iris_zscore[,5])"
   ]
  },
  {
   "cell_type": "code",
   "execution_count": null,
   "metadata": {},
   "outputs": [],
   "source": []
  }
 ],
 "metadata": {
  "kernelspec": {
   "display_name": "R",
   "language": "R",
   "name": "ir"
  },
  "language_info": {
   "codemirror_mode": "r",
   "file_extension": ".r",
   "mimetype": "text/x-r-source",
   "name": "R",
   "pygments_lexer": "r",
   "version": "4.3.0"
  }
 },
 "nbformat": 4,
 "nbformat_minor": 2
}
