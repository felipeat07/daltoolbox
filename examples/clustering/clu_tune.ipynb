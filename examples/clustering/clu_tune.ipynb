{
 "cells": [
  {
   "cell_type": "markdown",
   "id": "7f59c457",
   "metadata": {},
   "source": [
    "# Clustering - Tune Kmeans"
   ]
  },
  {
   "cell_type": "code",
   "execution_count": 1,
   "id": "79802aaf",
   "metadata": {},
   "outputs": [
    {
     "name": "stderr",
     "output_type": "stream",
     "text": [
      "Warning message:\n",
      "“replacing previous import ‘dplyr::rename’ by ‘reshape::rename’ when loading ‘daltoolbox’”\n",
      "Warning message:\n",
      "“replacing previous import ‘class::condense’ by ‘reshape::condense’ when loading ‘daltoolbox’”\n",
      "Warning message:\n",
      "“replacing previous import ‘dplyr::filter’ by ‘stats::filter’ when loading ‘daltoolbox’”\n"
     ]
    }
   ],
   "source": [
    "# DAL ToolBox\n",
    "# version 1.0.50\n",
    "\n",
    "source(\"https://raw.githubusercontent.com/cefet-rj-dal/dal/main/examples/jupyter_daltoolbox.R\")\n",
    "\n",
    "#loading DAL\n",
    "load_daltoolbox()  "
   ]
  },
  {
   "cell_type": "code",
   "execution_count": 2,
   "id": "491accc9",
   "metadata": {},
   "outputs": [
    {
     "name": "stdout",
     "output_type": "stream",
     "text": [
      "[1] 2\n"
     ]
    }
   ],
   "source": [
    "iris <- datasets::iris\n",
    "\n",
    "model <- clu_tune(cluster_kmeans(k=0))\n",
    "ranges <- list(k = 1:20)\n",
    "model <- fit(model, iris[,1:4], ranges)\n",
    "print(model$k)"
   ]
  },
  {
   "cell_type": "code",
   "execution_count": 3,
   "id": "5a68275b",
   "metadata": {},
   "outputs": [],
   "source": [
    "clu <- cluster(model, iris[,1:4])"
   ]
  },
  {
   "cell_type": "code",
   "execution_count": 4,
   "id": "2f978f15",
   "metadata": {},
   "outputs": [
    {
     "name": "stdout",
     "output_type": "stream",
     "text": [
      "[1] 1.584963\n"
     ]
    }
   ],
   "source": [
    "eval <- evaluate(model, rep(1, nrow(iris)), iris$Species)\n",
    "print(eval$entropy)"
   ]
  },
  {
   "cell_type": "code",
   "execution_count": null,
   "id": "04422e76",
   "metadata": {},
   "outputs": [],
   "source": []
  }
 ],
 "metadata": {
  "kernelspec": {
   "display_name": "R",
   "language": "R",
   "name": "ir"
  },
  "language_info": {
   "codemirror_mode": "r",
   "file_extension": ".r",
   "mimetype": "text/x-r-source",
   "name": "R",
   "pygments_lexer": "r",
   "version": "4.3.0"
  }
 },
 "nbformat": 4,
 "nbformat_minor": 5
}
