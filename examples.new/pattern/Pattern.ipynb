{
 "cells": [
  {
   "cell_type": "markdown",
   "metadata": {},
   "source": [
    "# Pattern Mining\n",
    "## Library\n"
   ]
  },
  {
   "cell_type": "code",
   "execution_count": 9,
   "metadata": {},
   "outputs": [],
   "source": [
    "# DAL Library\n",
    "# version 1.0.24\n",
    "\n",
    "source(\"https://raw.githubusercontent.com/cefet-rj-dal/dal/main/examples/jupyter_daltoolbox.R\")\n",
    "\n",
    "#loading DAL\n",
    "load_daltoolbox() \n",
    "loadlibrary(\"arules\")\n",
    "loadlibrary(\"arulesViz\")\n",
    "loadlibrary(\"arulesSequences\")"
   ]
  },
  {
   "cell_type": "code",
   "execution_count": 10,
   "metadata": {},
   "outputs": [
    {
     "data": {
      "text/html": [
       "<style>\n",
       ".list-inline {list-style: none; margin:0; padding: 0}\n",
       ".list-inline>li {display: inline-block}\n",
       ".list-inline>li:not(:last-child)::after {content: \"\\00b7\"; padding: 0 .5ex}\n",
       "</style>\n",
       "<ol class=list-inline><li>48842</li><li>15</li></ol>\n"
      ],
      "text/latex": [
       "\\begin{enumerate*}\n",
       "\\item 48842\n",
       "\\item 15\n",
       "\\end{enumerate*}\n"
      ],
      "text/markdown": [
       "1. 48842\n",
       "2. 15\n",
       "\n",
       "\n"
      ],
      "text/plain": [
       "[1] 48842    15"
      ]
     },
     "metadata": {},
     "output_type": "display_data"
    },
    {
     "data": {
      "text/html": [
       "<table class=\"dataframe\">\n",
       "<caption>A data.frame: 6 × 15</caption>\n",
       "<thead>\n",
       "\t<tr><th></th><th scope=col>age</th><th scope=col>workclass</th><th scope=col>fnlwgt</th><th scope=col>education</th><th scope=col>education-num</th><th scope=col>marital-status</th><th scope=col>occupation</th><th scope=col>relationship</th><th scope=col>race</th><th scope=col>sex</th><th scope=col>capital-gain</th><th scope=col>capital-loss</th><th scope=col>hours-per-week</th><th scope=col>native-country</th><th scope=col>income</th></tr>\n",
       "\t<tr><th></th><th scope=col>&lt;int&gt;</th><th scope=col>&lt;fct&gt;</th><th scope=col>&lt;int&gt;</th><th scope=col>&lt;ord&gt;</th><th scope=col>&lt;int&gt;</th><th scope=col>&lt;fct&gt;</th><th scope=col>&lt;fct&gt;</th><th scope=col>&lt;fct&gt;</th><th scope=col>&lt;fct&gt;</th><th scope=col>&lt;fct&gt;</th><th scope=col>&lt;int&gt;</th><th scope=col>&lt;int&gt;</th><th scope=col>&lt;int&gt;</th><th scope=col>&lt;fct&gt;</th><th scope=col>&lt;ord&gt;</th></tr>\n",
       "</thead>\n",
       "<tbody>\n",
       "\t<tr><th scope=row>1</th><td>39</td><td>State-gov       </td><td> 77516</td><td>Bachelors</td><td>13</td><td>Never-married     </td><td>Adm-clerical     </td><td>Not-in-family</td><td>White</td><td>Male  </td><td>2174</td><td>0</td><td>40</td><td>United-States</td><td>small</td></tr>\n",
       "\t<tr><th scope=row>2</th><td>50</td><td>Self-emp-not-inc</td><td> 83311</td><td>Bachelors</td><td>13</td><td>Married-civ-spouse</td><td>Exec-managerial  </td><td>Husband      </td><td>White</td><td>Male  </td><td>   0</td><td>0</td><td>13</td><td>United-States</td><td>small</td></tr>\n",
       "\t<tr><th scope=row>3</th><td>38</td><td>Private         </td><td>215646</td><td>HS-grad  </td><td> 9</td><td>Divorced          </td><td>Handlers-cleaners</td><td>Not-in-family</td><td>White</td><td>Male  </td><td>   0</td><td>0</td><td>40</td><td>United-States</td><td>small</td></tr>\n",
       "\t<tr><th scope=row>4</th><td>53</td><td>Private         </td><td>234721</td><td>11th     </td><td> 7</td><td>Married-civ-spouse</td><td>Handlers-cleaners</td><td>Husband      </td><td>Black</td><td>Male  </td><td>   0</td><td>0</td><td>40</td><td>United-States</td><td>small</td></tr>\n",
       "\t<tr><th scope=row>5</th><td>28</td><td>Private         </td><td>338409</td><td>Bachelors</td><td>13</td><td>Married-civ-spouse</td><td>Prof-specialty   </td><td>Wife         </td><td>Black</td><td>Female</td><td>   0</td><td>0</td><td>40</td><td>Cuba         </td><td>small</td></tr>\n",
       "\t<tr><th scope=row>6</th><td>37</td><td>Private         </td><td>284582</td><td>Masters  </td><td>14</td><td>Married-civ-spouse</td><td>Exec-managerial  </td><td>Wife         </td><td>White</td><td>Female</td><td>   0</td><td>0</td><td>40</td><td>United-States</td><td>small</td></tr>\n",
       "</tbody>\n",
       "</table>\n"
      ],
      "text/latex": [
       "A data.frame: 6 × 15\n",
       "\\begin{tabular}{r|lllllllllllllll}\n",
       "  & age & workclass & fnlwgt & education & education-num & marital-status & occupation & relationship & race & sex & capital-gain & capital-loss & hours-per-week & native-country & income\\\\\n",
       "  & <int> & <fct> & <int> & <ord> & <int> & <fct> & <fct> & <fct> & <fct> & <fct> & <int> & <int> & <int> & <fct> & <ord>\\\\\n",
       "\\hline\n",
       "\t1 & 39 & State-gov        &  77516 & Bachelors & 13 & Never-married      & Adm-clerical      & Not-in-family & White & Male   & 2174 & 0 & 40 & United-States & small\\\\\n",
       "\t2 & 50 & Self-emp-not-inc &  83311 & Bachelors & 13 & Married-civ-spouse & Exec-managerial   & Husband       & White & Male   &    0 & 0 & 13 & United-States & small\\\\\n",
       "\t3 & 38 & Private          & 215646 & HS-grad   &  9 & Divorced           & Handlers-cleaners & Not-in-family & White & Male   &    0 & 0 & 40 & United-States & small\\\\\n",
       "\t4 & 53 & Private          & 234721 & 11th      &  7 & Married-civ-spouse & Handlers-cleaners & Husband       & Black & Male   &    0 & 0 & 40 & United-States & small\\\\\n",
       "\t5 & 28 & Private          & 338409 & Bachelors & 13 & Married-civ-spouse & Prof-specialty    & Wife          & Black & Female &    0 & 0 & 40 & Cuba          & small\\\\\n",
       "\t6 & 37 & Private          & 284582 & Masters   & 14 & Married-civ-spouse & Exec-managerial   & Wife          & White & Female &    0 & 0 & 40 & United-States & small\\\\\n",
       "\\end{tabular}\n"
      ],
      "text/markdown": [
       "\n",
       "A data.frame: 6 × 15\n",
       "\n",
       "| <!--/--> | age &lt;int&gt; | workclass &lt;fct&gt; | fnlwgt &lt;int&gt; | education &lt;ord&gt; | education-num &lt;int&gt; | marital-status &lt;fct&gt; | occupation &lt;fct&gt; | relationship &lt;fct&gt; | race &lt;fct&gt; | sex &lt;fct&gt; | capital-gain &lt;int&gt; | capital-loss &lt;int&gt; | hours-per-week &lt;int&gt; | native-country &lt;fct&gt; | income &lt;ord&gt; |\n",
       "|---|---|---|---|---|---|---|---|---|---|---|---|---|---|---|---|\n",
       "| 1 | 39 | State-gov        |  77516 | Bachelors | 13 | Never-married      | Adm-clerical      | Not-in-family | White | Male   | 2174 | 0 | 40 | United-States | small |\n",
       "| 2 | 50 | Self-emp-not-inc |  83311 | Bachelors | 13 | Married-civ-spouse | Exec-managerial   | Husband       | White | Male   |    0 | 0 | 13 | United-States | small |\n",
       "| 3 | 38 | Private          | 215646 | HS-grad   |  9 | Divorced           | Handlers-cleaners | Not-in-family | White | Male   |    0 | 0 | 40 | United-States | small |\n",
       "| 4 | 53 | Private          | 234721 | 11th      |  7 | Married-civ-spouse | Handlers-cleaners | Husband       | Black | Male   |    0 | 0 | 40 | United-States | small |\n",
       "| 5 | 28 | Private          | 338409 | Bachelors | 13 | Married-civ-spouse | Prof-specialty    | Wife          | Black | Female |    0 | 0 | 40 | Cuba          | small |\n",
       "| 6 | 37 | Private          | 284582 | Masters   | 14 | Married-civ-spouse | Exec-managerial   | Wife          | White | Female |    0 | 0 | 40 | United-States | small |\n",
       "\n"
      ],
      "text/plain": [
       "  age workclass        fnlwgt education education-num marital-status    \n",
       "1 39  State-gov         77516 Bachelors 13            Never-married     \n",
       "2 50  Self-emp-not-inc  83311 Bachelors 13            Married-civ-spouse\n",
       "3 38  Private          215646 HS-grad    9            Divorced          \n",
       "4 53  Private          234721 11th       7            Married-civ-spouse\n",
       "5 28  Private          338409 Bachelors 13            Married-civ-spouse\n",
       "6 37  Private          284582 Masters   14            Married-civ-spouse\n",
       "  occupation        relationship  race  sex    capital-gain capital-loss\n",
       "1 Adm-clerical      Not-in-family White Male   2174         0           \n",
       "2 Exec-managerial   Husband       White Male      0         0           \n",
       "3 Handlers-cleaners Not-in-family White Male      0         0           \n",
       "4 Handlers-cleaners Husband       Black Male      0         0           \n",
       "5 Prof-specialty    Wife          Black Female    0         0           \n",
       "6 Exec-managerial   Wife          White Female    0         0           \n",
       "  hours-per-week native-country income\n",
       "1 40             United-States  small \n",
       "2 13             United-States  small \n",
       "3 40             United-States  small \n",
       "4 40             United-States  small \n",
       "5 40             Cuba           small \n",
       "6 40             United-States  small "
      ]
     },
     "metadata": {},
     "output_type": "display_data"
    }
   ],
   "source": [
    "data(AdultUCI)\n",
    "dim(AdultUCI)\n",
    "head(AdultUCI)"
   ]
  },
  {
   "cell_type": "markdown",
   "metadata": {},
   "source": [
    "## Removing attributes"
   ]
  },
  {
   "cell_type": "code",
   "execution_count": 11,
   "metadata": {},
   "outputs": [],
   "source": [
    "AdultUCI$fnlwgt <- NULL\n",
    "AdultUCI$\"education-num\" <- NULL\n"
   ]
  },
  {
   "cell_type": "markdown",
   "metadata": {},
   "source": [
    "## Conceptual Hierarchy and Binning"
   ]
  },
  {
   "cell_type": "code",
   "execution_count": 12,
   "metadata": {},
   "outputs": [
    {
     "data": {
      "text/html": [
       "<table class=\"dataframe\">\n",
       "<caption>A data.frame: 6 × 13</caption>\n",
       "<thead>\n",
       "\t<tr><th></th><th scope=col>age</th><th scope=col>workclass</th><th scope=col>education</th><th scope=col>marital-status</th><th scope=col>occupation</th><th scope=col>relationship</th><th scope=col>race</th><th scope=col>sex</th><th scope=col>capital-gain</th><th scope=col>capital-loss</th><th scope=col>hours-per-week</th><th scope=col>native-country</th><th scope=col>income</th></tr>\n",
       "\t<tr><th></th><th scope=col>&lt;ord&gt;</th><th scope=col>&lt;fct&gt;</th><th scope=col>&lt;ord&gt;</th><th scope=col>&lt;fct&gt;</th><th scope=col>&lt;fct&gt;</th><th scope=col>&lt;fct&gt;</th><th scope=col>&lt;fct&gt;</th><th scope=col>&lt;fct&gt;</th><th scope=col>&lt;ord&gt;</th><th scope=col>&lt;ord&gt;</th><th scope=col>&lt;ord&gt;</th><th scope=col>&lt;fct&gt;</th><th scope=col>&lt;ord&gt;</th></tr>\n",
       "</thead>\n",
       "<tbody>\n",
       "\t<tr><th scope=row>1</th><td>Middle-aged</td><td>State-gov       </td><td>Bachelors</td><td>Never-married     </td><td>Adm-clerical     </td><td>Not-in-family</td><td>White</td><td>Male  </td><td>Low </td><td>None</td><td>Full-time</td><td>United-States</td><td>small</td></tr>\n",
       "\t<tr><th scope=row>2</th><td>Senior     </td><td>Self-emp-not-inc</td><td>Bachelors</td><td>Married-civ-spouse</td><td>Exec-managerial  </td><td>Husband      </td><td>White</td><td>Male  </td><td>None</td><td>None</td><td>Part-time</td><td>United-States</td><td>small</td></tr>\n",
       "\t<tr><th scope=row>3</th><td>Middle-aged</td><td>Private         </td><td>HS-grad  </td><td>Divorced          </td><td>Handlers-cleaners</td><td>Not-in-family</td><td>White</td><td>Male  </td><td>None</td><td>None</td><td>Full-time</td><td>United-States</td><td>small</td></tr>\n",
       "\t<tr><th scope=row>4</th><td>Senior     </td><td>Private         </td><td>11th     </td><td>Married-civ-spouse</td><td>Handlers-cleaners</td><td>Husband      </td><td>Black</td><td>Male  </td><td>None</td><td>None</td><td>Full-time</td><td>United-States</td><td>small</td></tr>\n",
       "\t<tr><th scope=row>5</th><td>Middle-aged</td><td>Private         </td><td>Bachelors</td><td>Married-civ-spouse</td><td>Prof-specialty   </td><td>Wife         </td><td>Black</td><td>Female</td><td>None</td><td>None</td><td>Full-time</td><td>Cuba         </td><td>small</td></tr>\n",
       "\t<tr><th scope=row>6</th><td>Middle-aged</td><td>Private         </td><td>Masters  </td><td>Married-civ-spouse</td><td>Exec-managerial  </td><td>Wife         </td><td>White</td><td>Female</td><td>None</td><td>None</td><td>Full-time</td><td>United-States</td><td>small</td></tr>\n",
       "</tbody>\n",
       "</table>\n"
      ],
      "text/latex": [
       "A data.frame: 6 × 13\n",
       "\\begin{tabular}{r|lllllllllllll}\n",
       "  & age & workclass & education & marital-status & occupation & relationship & race & sex & capital-gain & capital-loss & hours-per-week & native-country & income\\\\\n",
       "  & <ord> & <fct> & <ord> & <fct> & <fct> & <fct> & <fct> & <fct> & <ord> & <ord> & <ord> & <fct> & <ord>\\\\\n",
       "\\hline\n",
       "\t1 & Middle-aged & State-gov        & Bachelors & Never-married      & Adm-clerical      & Not-in-family & White & Male   & Low  & None & Full-time & United-States & small\\\\\n",
       "\t2 & Senior      & Self-emp-not-inc & Bachelors & Married-civ-spouse & Exec-managerial   & Husband       & White & Male   & None & None & Part-time & United-States & small\\\\\n",
       "\t3 & Middle-aged & Private          & HS-grad   & Divorced           & Handlers-cleaners & Not-in-family & White & Male   & None & None & Full-time & United-States & small\\\\\n",
       "\t4 & Senior      & Private          & 11th      & Married-civ-spouse & Handlers-cleaners & Husband       & Black & Male   & None & None & Full-time & United-States & small\\\\\n",
       "\t5 & Middle-aged & Private          & Bachelors & Married-civ-spouse & Prof-specialty    & Wife          & Black & Female & None & None & Full-time & Cuba          & small\\\\\n",
       "\t6 & Middle-aged & Private          & Masters   & Married-civ-spouse & Exec-managerial   & Wife          & White & Female & None & None & Full-time & United-States & small\\\\\n",
       "\\end{tabular}\n"
      ],
      "text/markdown": [
       "\n",
       "A data.frame: 6 × 13\n",
       "\n",
       "| <!--/--> | age &lt;ord&gt; | workclass &lt;fct&gt; | education &lt;ord&gt; | marital-status &lt;fct&gt; | occupation &lt;fct&gt; | relationship &lt;fct&gt; | race &lt;fct&gt; | sex &lt;fct&gt; | capital-gain &lt;ord&gt; | capital-loss &lt;ord&gt; | hours-per-week &lt;ord&gt; | native-country &lt;fct&gt; | income &lt;ord&gt; |\n",
       "|---|---|---|---|---|---|---|---|---|---|---|---|---|---|\n",
       "| 1 | Middle-aged | State-gov        | Bachelors | Never-married      | Adm-clerical      | Not-in-family | White | Male   | Low  | None | Full-time | United-States | small |\n",
       "| 2 | Senior      | Self-emp-not-inc | Bachelors | Married-civ-spouse | Exec-managerial   | Husband       | White | Male   | None | None | Part-time | United-States | small |\n",
       "| 3 | Middle-aged | Private          | HS-grad   | Divorced           | Handlers-cleaners | Not-in-family | White | Male   | None | None | Full-time | United-States | small |\n",
       "| 4 | Senior      | Private          | 11th      | Married-civ-spouse | Handlers-cleaners | Husband       | Black | Male   | None | None | Full-time | United-States | small |\n",
       "| 5 | Middle-aged | Private          | Bachelors | Married-civ-spouse | Prof-specialty    | Wife          | Black | Female | None | None | Full-time | Cuba          | small |\n",
       "| 6 | Middle-aged | Private          | Masters   | Married-civ-spouse | Exec-managerial   | Wife          | White | Female | None | None | Full-time | United-States | small |\n",
       "\n"
      ],
      "text/plain": [
       "  age         workclass        education marital-status     occupation       \n",
       "1 Middle-aged State-gov        Bachelors Never-married      Adm-clerical     \n",
       "2 Senior      Self-emp-not-inc Bachelors Married-civ-spouse Exec-managerial  \n",
       "3 Middle-aged Private          HS-grad   Divorced           Handlers-cleaners\n",
       "4 Senior      Private          11th      Married-civ-spouse Handlers-cleaners\n",
       "5 Middle-aged Private          Bachelors Married-civ-spouse Prof-specialty   \n",
       "6 Middle-aged Private          Masters   Married-civ-spouse Exec-managerial  \n",
       "  relationship  race  sex    capital-gain capital-loss hours-per-week\n",
       "1 Not-in-family White Male   Low          None         Full-time     \n",
       "2 Husband       White Male   None         None         Part-time     \n",
       "3 Not-in-family White Male   None         None         Full-time     \n",
       "4 Husband       Black Male   None         None         Full-time     \n",
       "5 Wife          Black Female None         None         Full-time     \n",
       "6 Wife          White Female None         None         Full-time     \n",
       "  native-country income\n",
       "1 United-States  small \n",
       "2 United-States  small \n",
       "3 United-States  small \n",
       "4 United-States  small \n",
       "5 Cuba           small \n",
       "6 United-States  small "
      ]
     },
     "metadata": {},
     "output_type": "display_data"
    }
   ],
   "source": [
    "AdultUCI$age <- ordered(cut(AdultUCI$age, c(15,25,45,65,100)),\n",
    "                              labels = c(\"Young\", \"Middle-aged\", \"Senior\", \"Old\"))\n",
    "\n",
    "AdultUCI$\"hours-per-week\" <- ordered(cut(AdultUCI$\"hours-per-week\",\n",
    "                                             c(0,25,40,60,168)),\n",
    "                                         labels = c(\"Part-time\", \"Full-time\", \"Over-time\", \"Workaholic\"))\n",
    "\n",
    "AdultUCI$\"capital-gain\" <- ordered(cut(AdultUCI$\"capital-gain\",\n",
    "                                           c(-Inf,0,median(AdultUCI$\"capital-gain\"[AdultUCI$\"capital-gain\">0]),\n",
    "                                             Inf)), labels = c(\"None\", \"Low\", \"High\"))\n",
    "\n",
    "AdultUCI$\"capital-loss\" <- ordered(cut(AdultUCI$\"capital-loss\",\n",
    "                                           c(-Inf,0, median(AdultUCI$\"capital-loss\"[AdultUCI$\"capital-loss\">0]),\n",
    "                                             Inf)), labels = c(\"None\", \"Low\", \"High\"))\n",
    "\n",
    "head(AdultUCI)"
   ]
  },
  {
   "cell_type": "markdown",
   "metadata": {},
   "source": [
    "## Convert to transactions"
   ]
  },
  {
   "cell_type": "code",
   "execution_count": 13,
   "metadata": {},
   "outputs": [],
   "source": [
    "AdultTrans <- as(AdultUCI, \"transactions\")\n"
   ]
  },
  {
   "cell_type": "markdown",
   "metadata": {},
   "source": [
    "## A Priori\n"
   ]
  },
  {
   "cell_type": "code",
   "execution_count": 14,
   "metadata": {},
   "outputs": [
    {
     "name": "stdout",
     "output_type": "stream",
     "text": [
      "Apriori\n",
      "\n",
      "Parameter specification:\n",
      " confidence minval smax arem  aval originalSupport maxtime support minlen\n",
      "        0.9    0.1    1 none FALSE            TRUE       5     0.5      2\n",
      " maxlen target  ext\n",
      "     10  rules TRUE\n",
      "\n",
      "Algorithmic control:\n",
      " filter tree heap memopt load sort verbose\n",
      "    0.1 TRUE TRUE  FALSE TRUE    2    TRUE\n",
      "\n",
      "Absolute minimum support count: 24421 \n",
      "\n",
      "set item appearances ...[1 item(s)] done [0.00s].\n",
      "set transactions ...[115 item(s), 48842 transaction(s)] done [0.03s].\n",
      "sorting and recoding items ... [9 item(s)] done [0.00s].\n",
      "creating transaction tree ... done [0.01s].\n",
      "checking subsets of size 1 2 3 4 done [0.00s].\n",
      "writing ... [18 rule(s)] done [0.00s].\n",
      "creating S4 object  ... done [0.00s].\n",
      "     lhs                               rhs                   support confidence  coverage      lift count\n",
      "[1]  {hours-per-week=Full-time}     => {capital-gain=None} 0.5435895  0.9290688 0.5850907 1.0127342 26550\n",
      "[2]  {sex=Male}                     => {capital-gain=None} 0.6050735  0.9051455 0.6684820 0.9866565 29553\n",
      "[3]  {workclass=Private}            => {capital-gain=None} 0.6413742  0.9239073 0.6941976 1.0071078 31326\n",
      "[4]  {race=White}                   => {capital-gain=None} 0.7817862  0.9143240 0.8550428 0.9966616 38184\n",
      "[5]  {native-country=United-States} => {capital-gain=None} 0.8219565  0.9159062 0.8974243 0.9983862 40146\n",
      "[6]  {capital-loss=None}            => {capital-gain=None} 0.8706646  0.9133376 0.9532779 0.9955863 42525\n",
      "[7]  {capital-loss=None,                                                                                 \n",
      "      hours-per-week=Full-time}     => {capital-gain=None} 0.5191638  0.9259787 0.5606650 1.0093657 25357\n",
      "[8]  {race=White,                                                                                        \n",
      "      sex=Male}                     => {capital-gain=None} 0.5313050  0.9030799 0.5883256 0.9844048 25950\n",
      "[9]  {sex=Male,                                                                                          \n",
      "      native-country=United-States} => {capital-gain=None} 0.5406003  0.9035349 0.5983170 0.9849008 26404\n",
      "[10] {workclass=Private,                                                                                 \n",
      "      race=White}                   => {capital-gain=None} 0.5472339  0.9208931 0.5942427 1.0038221 26728\n",
      "[11] {workclass=Private,                                                                                 \n",
      "      native-country=United-States} => {capital-gain=None} 0.5689570  0.9218444 0.6171942 1.0048592 27789\n",
      "[12] {workclass=Private,                                                                                 \n",
      "      capital-loss=None}            => {capital-gain=None} 0.6111748  0.9204465 0.6639982 1.0033354 29851\n",
      "[13] {race=White,                                                                                        \n",
      "      native-country=United-States} => {capital-gain=None} 0.7194628  0.9128933 0.7881127 0.9951019 35140\n",
      "[14] {race=White,                                                                                        \n",
      "      capital-loss=None}            => {capital-gain=None} 0.7404283  0.9099693 0.8136849 0.9919147 36164\n",
      "[15] {capital-loss=None,                                                                                 \n",
      "      native-country=United-States} => {capital-gain=None} 0.7793702  0.9117168 0.8548380 0.9938195 38066\n",
      "[16] {workclass=Private,                                                                                 \n",
      "      race=White,                                                                                        \n",
      "      capital-loss=None}            => {capital-gain=None} 0.5204742  0.9171628 0.5674829 0.9997559 25421\n",
      "[17] {workclass=Private,                                                                                 \n",
      "      capital-loss=None,                                                                                 \n",
      "      native-country=United-States} => {capital-gain=None} 0.5414807  0.9182030 0.5897179 1.0008898 26447\n",
      "[18] {race=White,                                                                                        \n",
      "      capital-loss=None,                                                                                 \n",
      "      native-country=United-States} => {capital-gain=None} 0.6803980  0.9083504 0.7490480 0.9901500 33232\n"
     ]
    }
   ],
   "source": [
    "rules <- apriori(AdultTrans, parameter=list(supp = 0.5, conf = 0.9, minlen=2, maxlen= 10, target = \"rules\"), \n",
    "                 appearance=list(rhs = c(\"capital-gain=None\"), default=\"lhs\"), control=NULL)\n",
    "inspect(rules)"
   ]
  },
  {
   "cell_type": "code",
   "execution_count": 15,
   "metadata": {},
   "outputs": [
    {
     "data": {
      "text/html": [
       "<table class=\"dataframe\">\n",
       "<caption>A data.frame: 6 × 6</caption>\n",
       "<thead>\n",
       "\t<tr><th></th><th scope=col>rules</th><th scope=col>support</th><th scope=col>confidence</th><th scope=col>coverage</th><th scope=col>lift</th><th scope=col>count</th></tr>\n",
       "\t<tr><th></th><th scope=col>&lt;chr&gt;</th><th scope=col>&lt;dbl&gt;</th><th scope=col>&lt;dbl&gt;</th><th scope=col>&lt;dbl&gt;</th><th scope=col>&lt;dbl&gt;</th><th scope=col>&lt;int&gt;</th></tr>\n",
       "</thead>\n",
       "<tbody>\n",
       "\t<tr><th scope=row>1</th><td><span style=white-space:pre-wrap>{hours-per-week=Full-time} =&gt; {capital-gain=None}    </span></td><td>0.5435895</td><td>0.9290688</td><td>0.5850907</td><td>1.0127342</td><td>26550</td></tr>\n",
       "\t<tr><th scope=row>2</th><td><span style=white-space:pre-wrap>{sex=Male} =&gt; {capital-gain=None}                    </span></td><td>0.6050735</td><td>0.9051455</td><td>0.6684820</td><td>0.9866565</td><td>29553</td></tr>\n",
       "\t<tr><th scope=row>3</th><td><span style=white-space:pre-wrap>{workclass=Private} =&gt; {capital-gain=None}           </span></td><td>0.6413742</td><td>0.9239073</td><td>0.6941976</td><td>1.0071078</td><td>31326</td></tr>\n",
       "\t<tr><th scope=row>4</th><td><span style=white-space:pre-wrap>{race=White} =&gt; {capital-gain=None}                  </span></td><td>0.7817862</td><td>0.9143240</td><td>0.8550428</td><td>0.9966616</td><td>38184</td></tr>\n",
       "\t<tr><th scope=row>5</th><td>{native-country=United-States} =&gt; {capital-gain=None}</td><td>0.8219565</td><td>0.9159062</td><td>0.8974243</td><td>0.9983862</td><td>40146</td></tr>\n",
       "\t<tr><th scope=row>6</th><td><span style=white-space:pre-wrap>{capital-loss=None} =&gt; {capital-gain=None}           </span></td><td>0.8706646</td><td>0.9133376</td><td>0.9532779</td><td>0.9955863</td><td>42525</td></tr>\n",
       "</tbody>\n",
       "</table>\n"
      ],
      "text/latex": [
       "A data.frame: 6 × 6\n",
       "\\begin{tabular}{r|llllll}\n",
       "  & rules & support & confidence & coverage & lift & count\\\\\n",
       "  & <chr> & <dbl> & <dbl> & <dbl> & <dbl> & <int>\\\\\n",
       "\\hline\n",
       "\t1 & \\{hours-per-week=Full-time\\} => \\{capital-gain=None\\}     & 0.5435895 & 0.9290688 & 0.5850907 & 1.0127342 & 26550\\\\\n",
       "\t2 & \\{sex=Male\\} => \\{capital-gain=None\\}                     & 0.6050735 & 0.9051455 & 0.6684820 & 0.9866565 & 29553\\\\\n",
       "\t3 & \\{workclass=Private\\} => \\{capital-gain=None\\}            & 0.6413742 & 0.9239073 & 0.6941976 & 1.0071078 & 31326\\\\\n",
       "\t4 & \\{race=White\\} => \\{capital-gain=None\\}                   & 0.7817862 & 0.9143240 & 0.8550428 & 0.9966616 & 38184\\\\\n",
       "\t5 & \\{native-country=United-States\\} => \\{capital-gain=None\\} & 0.8219565 & 0.9159062 & 0.8974243 & 0.9983862 & 40146\\\\\n",
       "\t6 & \\{capital-loss=None\\} => \\{capital-gain=None\\}            & 0.8706646 & 0.9133376 & 0.9532779 & 0.9955863 & 42525\\\\\n",
       "\\end{tabular}\n"
      ],
      "text/markdown": [
       "\n",
       "A data.frame: 6 × 6\n",
       "\n",
       "| <!--/--> | rules &lt;chr&gt; | support &lt;dbl&gt; | confidence &lt;dbl&gt; | coverage &lt;dbl&gt; | lift &lt;dbl&gt; | count &lt;int&gt; |\n",
       "|---|---|---|---|---|---|---|\n",
       "| 1 | {hours-per-week=Full-time} =&gt; {capital-gain=None}     | 0.5435895 | 0.9290688 | 0.5850907 | 1.0127342 | 26550 |\n",
       "| 2 | {sex=Male} =&gt; {capital-gain=None}                     | 0.6050735 | 0.9051455 | 0.6684820 | 0.9866565 | 29553 |\n",
       "| 3 | {workclass=Private} =&gt; {capital-gain=None}            | 0.6413742 | 0.9239073 | 0.6941976 | 1.0071078 | 31326 |\n",
       "| 4 | {race=White} =&gt; {capital-gain=None}                   | 0.7817862 | 0.9143240 | 0.8550428 | 0.9966616 | 38184 |\n",
       "| 5 | {native-country=United-States} =&gt; {capital-gain=None} | 0.8219565 | 0.9159062 | 0.8974243 | 0.9983862 | 40146 |\n",
       "| 6 | {capital-loss=None} =&gt; {capital-gain=None}            | 0.8706646 | 0.9133376 | 0.9532779 | 0.9955863 | 42525 |\n",
       "\n"
      ],
      "text/plain": [
       "  rules                                                 support   confidence\n",
       "1 {hours-per-week=Full-time} => {capital-gain=None}     0.5435895 0.9290688 \n",
       "2 {sex=Male} => {capital-gain=None}                     0.6050735 0.9051455 \n",
       "3 {workclass=Private} => {capital-gain=None}            0.6413742 0.9239073 \n",
       "4 {race=White} => {capital-gain=None}                   0.7817862 0.9143240 \n",
       "5 {native-country=United-States} => {capital-gain=None} 0.8219565 0.9159062 \n",
       "6 {capital-loss=None} => {capital-gain=None}            0.8706646 0.9133376 \n",
       "  coverage  lift      count\n",
       "1 0.5850907 1.0127342 26550\n",
       "2 0.6684820 0.9866565 29553\n",
       "3 0.6941976 1.0071078 31326\n",
       "4 0.8550428 0.9966616 38184\n",
       "5 0.8974243 0.9983862 40146\n",
       "6 0.9532779 0.9955863 42525"
      ]
     },
     "metadata": {},
     "output_type": "display_data"
    }
   ],
   "source": [
    "rules_a <- as(rules, \"data.frame\")\n",
    "head(rules_a)"
   ]
  },
  {
   "cell_type": "markdown",
   "metadata": {},
   "source": [
    "## Analysis of Rules"
   ]
  },
  {
   "cell_type": "code",
   "execution_count": 16,
   "metadata": {},
   "outputs": [
    {
     "data": {
      "text/html": [
       "<table class=\"dataframe\">\n",
       "<caption>A data.frame: 6 × 53</caption>\n",
       "<thead>\n",
       "\t<tr><th></th><th scope=col>support</th><th scope=col>confidence</th><th scope=col>lift</th><th scope=col>count</th><th scope=col>addedValue</th><th scope=col>boost</th><th scope=col>casualConfidence</th><th scope=col>casualSupport</th><th scope=col>centeredConfidence</th><th scope=col>certainty</th><th scope=col>⋯</th><th scope=col>rulePowerFactor</th><th scope=col>sebag</th><th scope=col>stdLift</th><th scope=col>table.n11</th><th scope=col>table.n01</th><th scope=col>table.n10</th><th scope=col>table.n00</th><th scope=col>varyingLiaison</th><th scope=col>yuleQ</th><th scope=col>yuleY</th></tr>\n",
       "\t<tr><th></th><th scope=col>&lt;dbl&gt;</th><th scope=col>&lt;dbl&gt;</th><th scope=col>&lt;dbl&gt;</th><th scope=col>&lt;dbl&gt;</th><th scope=col>&lt;dbl&gt;</th><th scope=col>&lt;dbl&gt;</th><th scope=col>&lt;dbl&gt;</th><th scope=col>&lt;dbl&gt;</th><th scope=col>&lt;dbl&gt;</th><th scope=col>&lt;dbl&gt;</th><th scope=col>⋯</th><th scope=col>&lt;dbl&gt;</th><th scope=col>&lt;dbl&gt;</th><th scope=col>&lt;dbl&gt;</th><th scope=col>&lt;dbl&gt;</th><th scope=col>&lt;dbl&gt;</th><th scope=col>&lt;dbl&gt;</th><th scope=col>&lt;dbl&gt;</th><th scope=col>&lt;dbl&gt;</th><th scope=col>&lt;dbl&gt;</th><th scope=col>&lt;dbl&gt;</th></tr>\n",
       "</thead>\n",
       "<tbody>\n",
       "\t<tr><th scope=row>1</th><td>0.5435895</td><td>0.9290688</td><td>1.0127342</td><td>26550</td><td> 0.011682156</td><td>Inf</td><td>0.9999976</td><td>1.419475</td><td> 0.011682156</td><td> 0.14140765</td><td>⋯</td><td>0.5050321</td><td>13.09817</td><td>0.29068832</td><td>26550</td><td>18257</td><td>2027</td><td>2008</td><td> 0.012734168</td><td> 0.1805312</td><td> 0.09101332</td></tr>\n",
       "\t<tr><th scope=row>2</th><td>0.6050735</td><td>0.9051455</td><td>0.9866565</td><td>29553</td><td>-0.012241193</td><td>Inf</td><td>0.9999966</td><td>1.459052</td><td>-0.012241193</td><td>-0.14817456</td><td>⋯</td><td>0.5476795</td><td> 9.54246</td><td>0.05145482</td><td>29553</td><td>15254</td><td>3097</td><td> 938</td><td>-0.013343548</td><td>-0.2604097</td><td>-0.13249043</td></tr>\n",
       "\t<tr><th scope=row>3</th><td>0.6413742</td><td>0.9239073</td><td>1.0071078</td><td>31326</td><td> 0.006520598</td><td>Inf</td><td>0.9999973</td><td>1.505938</td><td> 0.006520598</td><td> 0.07892913</td><td>⋯</td><td>0.5925703</td><td>12.14186</td><td>0.23907273</td><td>31326</td><td>13481</td><td>2580</td><td>1455</td><td> 0.007107796</td><td> 0.1343742</td><td> 0.06749314</td></tr>\n",
       "\t<tr><th scope=row>4</th><td>0.7817862</td><td>0.9143240</td><td>0.9966616</td><td>38184</td><td>-0.003062649</td><td>Inf</td><td>0.9999966</td><td>1.625916</td><td>-0.003062649</td><td>-0.03707209</td><td>⋯</td><td>0.7148059</td><td>10.67188</td><td>0.11325898</td><td>38184</td><td> 6623</td><td>3578</td><td> 457</td><td>-0.003338449</td><td>-0.1518210</td><td>-0.07635304</td></tr>\n",
       "\t<tr><th scope=row>5</th><td>0.8219565</td><td>0.9159062</td><td>0.9983862</td><td>40146</td><td>-0.001480488</td><td>Inf</td><td>0.9999966</td><td>1.663875</td><td>-0.001480488</td><td>-0.01792069</td><td>⋯</td><td>0.7528351</td><td>10.89148</td><td>0.08649318</td><td>40146</td><td> 4661</td><td>3686</td><td> 349</td><td>-0.001613810</td><td>-0.1016143</td><td>-0.05093898</td></tr>\n",
       "\t<tr><th scope=row>6</th><td>0.8706646</td><td>0.9133376</td><td>0.9955863</td><td>42525</td><td>-0.004049047</td><td>Inf</td><td>0.9999964</td><td>1.705438</td><td>-0.004049047</td><td>-0.04901203</td><td>⋯</td><td>0.7952107</td><td>10.53903</td><td>0.00000000</td><td>42525</td><td> 2282</td><td>4035</td><td>   0</td><td>-0.004413675</td><td>-1.0000000</td><td>-1.00000000</td></tr>\n",
       "</tbody>\n",
       "</table>\n"
      ],
      "text/latex": [
       "A data.frame: 6 × 53\n",
       "\\begin{tabular}{r|lllllllllllllllllllll}\n",
       "  & support & confidence & lift & count & addedValue & boost & casualConfidence & casualSupport & centeredConfidence & certainty & ⋯ & rulePowerFactor & sebag & stdLift & table.n11 & table.n01 & table.n10 & table.n00 & varyingLiaison & yuleQ & yuleY\\\\\n",
       "  & <dbl> & <dbl> & <dbl> & <dbl> & <dbl> & <dbl> & <dbl> & <dbl> & <dbl> & <dbl> & ⋯ & <dbl> & <dbl> & <dbl> & <dbl> & <dbl> & <dbl> & <dbl> & <dbl> & <dbl> & <dbl>\\\\\n",
       "\\hline\n",
       "\t1 & 0.5435895 & 0.9290688 & 1.0127342 & 26550 &  0.011682156 & Inf & 0.9999976 & 1.419475 &  0.011682156 &  0.14140765 & ⋯ & 0.5050321 & 13.09817 & 0.29068832 & 26550 & 18257 & 2027 & 2008 &  0.012734168 &  0.1805312 &  0.09101332\\\\\n",
       "\t2 & 0.6050735 & 0.9051455 & 0.9866565 & 29553 & -0.012241193 & Inf & 0.9999966 & 1.459052 & -0.012241193 & -0.14817456 & ⋯ & 0.5476795 &  9.54246 & 0.05145482 & 29553 & 15254 & 3097 &  938 & -0.013343548 & -0.2604097 & -0.13249043\\\\\n",
       "\t3 & 0.6413742 & 0.9239073 & 1.0071078 & 31326 &  0.006520598 & Inf & 0.9999973 & 1.505938 &  0.006520598 &  0.07892913 & ⋯ & 0.5925703 & 12.14186 & 0.23907273 & 31326 & 13481 & 2580 & 1455 &  0.007107796 &  0.1343742 &  0.06749314\\\\\n",
       "\t4 & 0.7817862 & 0.9143240 & 0.9966616 & 38184 & -0.003062649 & Inf & 0.9999966 & 1.625916 & -0.003062649 & -0.03707209 & ⋯ & 0.7148059 & 10.67188 & 0.11325898 & 38184 &  6623 & 3578 &  457 & -0.003338449 & -0.1518210 & -0.07635304\\\\\n",
       "\t5 & 0.8219565 & 0.9159062 & 0.9983862 & 40146 & -0.001480488 & Inf & 0.9999966 & 1.663875 & -0.001480488 & -0.01792069 & ⋯ & 0.7528351 & 10.89148 & 0.08649318 & 40146 &  4661 & 3686 &  349 & -0.001613810 & -0.1016143 & -0.05093898\\\\\n",
       "\t6 & 0.8706646 & 0.9133376 & 0.9955863 & 42525 & -0.004049047 & Inf & 0.9999964 & 1.705438 & -0.004049047 & -0.04901203 & ⋯ & 0.7952107 & 10.53903 & 0.00000000 & 42525 &  2282 & 4035 &    0 & -0.004413675 & -1.0000000 & -1.00000000\\\\\n",
       "\\end{tabular}\n"
      ],
      "text/markdown": [
       "\n",
       "A data.frame: 6 × 53\n",
       "\n",
       "| <!--/--> | support &lt;dbl&gt; | confidence &lt;dbl&gt; | lift &lt;dbl&gt; | count &lt;dbl&gt; | addedValue &lt;dbl&gt; | boost &lt;dbl&gt; | casualConfidence &lt;dbl&gt; | casualSupport &lt;dbl&gt; | centeredConfidence &lt;dbl&gt; | certainty &lt;dbl&gt; | ⋯ ⋯ | rulePowerFactor &lt;dbl&gt; | sebag &lt;dbl&gt; | stdLift &lt;dbl&gt; | table.n11 &lt;dbl&gt; | table.n01 &lt;dbl&gt; | table.n10 &lt;dbl&gt; | table.n00 &lt;dbl&gt; | varyingLiaison &lt;dbl&gt; | yuleQ &lt;dbl&gt; | yuleY &lt;dbl&gt; |\n",
       "|---|---|---|---|---|---|---|---|---|---|---|---|---|---|---|---|---|---|---|---|---|---|\n",
       "| 1 | 0.5435895 | 0.9290688 | 1.0127342 | 26550 |  0.011682156 | Inf | 0.9999976 | 1.419475 |  0.011682156 |  0.14140765 | ⋯ | 0.5050321 | 13.09817 | 0.29068832 | 26550 | 18257 | 2027 | 2008 |  0.012734168 |  0.1805312 |  0.09101332 |\n",
       "| 2 | 0.6050735 | 0.9051455 | 0.9866565 | 29553 | -0.012241193 | Inf | 0.9999966 | 1.459052 | -0.012241193 | -0.14817456 | ⋯ | 0.5476795 |  9.54246 | 0.05145482 | 29553 | 15254 | 3097 |  938 | -0.013343548 | -0.2604097 | -0.13249043 |\n",
       "| 3 | 0.6413742 | 0.9239073 | 1.0071078 | 31326 |  0.006520598 | Inf | 0.9999973 | 1.505938 |  0.006520598 |  0.07892913 | ⋯ | 0.5925703 | 12.14186 | 0.23907273 | 31326 | 13481 | 2580 | 1455 |  0.007107796 |  0.1343742 |  0.06749314 |\n",
       "| 4 | 0.7817862 | 0.9143240 | 0.9966616 | 38184 | -0.003062649 | Inf | 0.9999966 | 1.625916 | -0.003062649 | -0.03707209 | ⋯ | 0.7148059 | 10.67188 | 0.11325898 | 38184 |  6623 | 3578 |  457 | -0.003338449 | -0.1518210 | -0.07635304 |\n",
       "| 5 | 0.8219565 | 0.9159062 | 0.9983862 | 40146 | -0.001480488 | Inf | 0.9999966 | 1.663875 | -0.001480488 | -0.01792069 | ⋯ | 0.7528351 | 10.89148 | 0.08649318 | 40146 |  4661 | 3686 |  349 | -0.001613810 | -0.1016143 | -0.05093898 |\n",
       "| 6 | 0.8706646 | 0.9133376 | 0.9955863 | 42525 | -0.004049047 | Inf | 0.9999964 | 1.705438 | -0.004049047 | -0.04901203 | ⋯ | 0.7952107 | 10.53903 | 0.00000000 | 42525 |  2282 | 4035 |    0 | -0.004413675 | -1.0000000 | -1.00000000 |\n",
       "\n"
      ],
      "text/plain": [
       "  support   confidence lift      count addedValue   boost casualConfidence\n",
       "1 0.5435895 0.9290688  1.0127342 26550  0.011682156 Inf   0.9999976       \n",
       "2 0.6050735 0.9051455  0.9866565 29553 -0.012241193 Inf   0.9999966       \n",
       "3 0.6413742 0.9239073  1.0071078 31326  0.006520598 Inf   0.9999973       \n",
       "4 0.7817862 0.9143240  0.9966616 38184 -0.003062649 Inf   0.9999966       \n",
       "5 0.8219565 0.9159062  0.9983862 40146 -0.001480488 Inf   0.9999966       \n",
       "6 0.8706646 0.9133376  0.9955863 42525 -0.004049047 Inf   0.9999964       \n",
       "  casualSupport centeredConfidence certainty   ⋯ rulePowerFactor sebag   \n",
       "1 1.419475       0.011682156        0.14140765 ⋯ 0.5050321       13.09817\n",
       "2 1.459052      -0.012241193       -0.14817456 ⋯ 0.5476795        9.54246\n",
       "3 1.505938       0.006520598        0.07892913 ⋯ 0.5925703       12.14186\n",
       "4 1.625916      -0.003062649       -0.03707209 ⋯ 0.7148059       10.67188\n",
       "5 1.663875      -0.001480488       -0.01792069 ⋯ 0.7528351       10.89148\n",
       "6 1.705438      -0.004049047       -0.04901203 ⋯ 0.7952107       10.53903\n",
       "  stdLift    table.n11 table.n01 table.n10 table.n00 varyingLiaison yuleQ     \n",
       "1 0.29068832 26550     18257     2027      2008       0.012734168    0.1805312\n",
       "2 0.05145482 29553     15254     3097       938      -0.013343548   -0.2604097\n",
       "3 0.23907273 31326     13481     2580      1455       0.007107796    0.1343742\n",
       "4 0.11325898 38184      6623     3578       457      -0.003338449   -0.1518210\n",
       "5 0.08649318 40146      4661     3686       349      -0.001613810   -0.1016143\n",
       "6 0.00000000 42525      2282     4035         0      -0.004413675   -1.0000000\n",
       "  yuleY      \n",
       "1  0.09101332\n",
       "2 -0.13249043\n",
       "3  0.06749314\n",
       "4 -0.07635304\n",
       "5 -0.05093898\n",
       "6 -1.00000000"
      ]
     },
     "metadata": {},
     "output_type": "display_data"
    }
   ],
   "source": [
    "imrules <- interestMeasure(rules, transactions = AdultTrans)\n",
    "head(imrules)"
   ]
  },
  {
   "cell_type": "markdown",
   "metadata": {},
   "source": [
    "## Removing redundant rules"
   ]
  },
  {
   "cell_type": "code",
   "execution_count": 17,
   "metadata": {},
   "outputs": [],
   "source": [
    "nrules <- rules[!is.redundant(rules)]"
   ]
  },
  {
   "cell_type": "code",
   "execution_count": 18,
   "metadata": {},
   "outputs": [
    {
     "name": "stdout",
     "output_type": "stream",
     "text": [
      "    lhs                               rhs                 support   confidence\n",
      "[1] {hours-per-week=Full-time}     => {capital-gain=None} 0.5435895 0.9290688 \n",
      "[2] {sex=Male}                     => {capital-gain=None} 0.6050735 0.9051455 \n",
      "[3] {workclass=Private}            => {capital-gain=None} 0.6413742 0.9239073 \n",
      "[4] {race=White}                   => {capital-gain=None} 0.7817862 0.9143240 \n",
      "[5] {native-country=United-States} => {capital-gain=None} 0.8219565 0.9159062 \n",
      "[6] {capital-loss=None}            => {capital-gain=None} 0.8706646 0.9133376 \n",
      "    coverage  lift      count\n",
      "[1] 0.5850907 1.0127342 26550\n",
      "[2] 0.6684820 0.9866565 29553\n",
      "[3] 0.6941976 1.0071078 31326\n",
      "[4] 0.8550428 0.9966616 38184\n",
      "[5] 0.8974243 0.9983862 40146\n",
      "[6] 0.9532779 0.9955863 42525\n"
     ]
    }
   ],
   "source": [
    "arules::inspect(nrules)"
   ]
  },
  {
   "cell_type": "markdown",
   "metadata": {},
   "source": [
    "## Showing the transactions that support the rules\n",
    "In this example, we can see the transactions (trans) that support rules 1. "
   ]
  },
  {
   "cell_type": "code",
   "execution_count": 19,
   "metadata": {
    "scrolled": true
   },
   "outputs": [
    {
     "data": {
      "text/html": [
       "26550"
      ],
      "text/latex": [
       "26550"
      ],
      "text/markdown": [
       "26550"
      ],
      "text/plain": [
       "[1] 26550"
      ]
     },
     "metadata": {},
     "output_type": "display_data"
    },
    {
     "name": "stdout",
     "output_type": "stream",
     "text": [
      "[1] 0.5435895 0.5435895\n"
     ]
    }
   ],
   "source": [
    "st <- supportingTransactions(nrules[1], AdultTrans)\n",
    "trans <- unique(st@data@i)\n",
    "length(trans)\n",
    "print(c(length(trans)/length(AdultTrans), nrules[1]@quality$support))"
   ]
  },
  {
   "cell_type": "markdown",
   "metadata": {},
   "source": [
    "Now we can see the transactions (trans) that support rules 1 and 2. \n",
    "As can be observed, the support for both rules is not the sum of the support of each rule. "
   ]
  },
  {
   "cell_type": "code",
   "execution_count": 20,
   "metadata": {},
   "outputs": [
    {
     "data": {
      "text/html": [
       "39392"
      ],
      "text/latex": [
       "39392"
      ],
      "text/markdown": [
       "39392"
      ],
      "text/plain": [
       "[1] 39392"
      ]
     },
     "metadata": {},
     "output_type": "display_data"
    },
    {
     "name": "stdout",
     "output_type": "stream",
     "text": [
      "[1] 0.8065190 0.5435895 0.6050735\n"
     ]
    }
   ],
   "source": [
    "st <- supportingTransactions(nrules[1:2], AdultTrans)\n",
    "trans <- unique(st@data@i)\n",
    "length(trans)\n",
    "print(c(length(trans)/length(AdultTrans), nrules[1:2]@quality$support))"
   ]
  },
  {
   "cell_type": "markdown",
   "metadata": {},
   "source": [
    "## Rules visualization"
   ]
  },
  {
   "cell_type": "code",
   "execution_count": 21,
   "metadata": {},
   "outputs": [
    {
     "data": {
      "image/png": "[encoded data removed]",
      "text/plain": [
       "plot without title"
      ]
     },
     "metadata": {
      "image/png": {
       "height": 240,
       "width": 420
      }
     },
     "output_type": "display_data"
    }
   ],
   "source": [
    "options(repr.plot.width=7, repr.plot.height=4)\n",
    "plot(rules)\n"
   ]
  },
  {
   "cell_type": "code",
   "execution_count": 22,
   "metadata": {},
   "outputs": [
    {
     "data": {
      "image/png": "[encoded data removed]",
      "text/plain": [
       "plot without title"
      ]
     },
     "metadata": {
      "image/png": {
       "height": 240,
       "width": 420
      }
     },
     "output_type": "display_data"
    }
   ],
   "source": [
    "options(repr.plot.width=7, repr.plot.height=4)\n",
    "plot(rules, method=\"paracoord\", control=list(reorder=TRUE))"
   ]
  },
  {
   "cell_type": "markdown",
   "metadata": {},
   "source": [
    "# Sequence Mining"
   ]
  },
  {
   "cell_type": "code",
   "execution_count": 23,
   "metadata": {},
   "outputs": [
    {
     "data": {
      "text/html": [
       "<table class=\"dataframe\">\n",
       "<caption>A data.frame: 10 × 4</caption>\n",
       "<thead>\n",
       "\t<tr><th scope=col>items</th><th scope=col>sequenceID</th><th scope=col>eventID</th><th scope=col>SIZE</th></tr>\n",
       "\t<tr><th scope=col>&lt;chr&gt;</th><th scope=col>&lt;int&gt;</th><th scope=col>&lt;int&gt;</th><th scope=col>&lt;int&gt;</th></tr>\n",
       "</thead>\n",
       "<tbody>\n",
       "\t<tr><td>{C,D}    </td><td>1</td><td>10</td><td>2</td></tr>\n",
       "\t<tr><td>{A,B,C}  </td><td>1</td><td>15</td><td>3</td></tr>\n",
       "\t<tr><td>{A,B,F}  </td><td>1</td><td>20</td><td>3</td></tr>\n",
       "\t<tr><td>{A,C,D,F}</td><td>1</td><td>25</td><td>4</td></tr>\n",
       "\t<tr><td>{A,B,F}  </td><td>2</td><td>15</td><td>3</td></tr>\n",
       "\t<tr><td>{E}      </td><td>2</td><td>20</td><td>1</td></tr>\n",
       "\t<tr><td>{A,B,F}  </td><td>3</td><td>10</td><td>3</td></tr>\n",
       "\t<tr><td>{D,G,H}  </td><td>4</td><td>10</td><td>3</td></tr>\n",
       "\t<tr><td>{B,F}    </td><td>4</td><td>20</td><td>2</td></tr>\n",
       "\t<tr><td>{A,G,H}  </td><td>4</td><td>25</td><td>3</td></tr>\n",
       "</tbody>\n",
       "</table>\n"
      ],
      "text/latex": [
       "A data.frame: 10 × 4\n",
       "\\begin{tabular}{llll}\n",
       " items & sequenceID & eventID & SIZE\\\\\n",
       " <chr> & <int> & <int> & <int>\\\\\n",
       "\\hline\n",
       "\t \\{C,D\\}     & 1 & 10 & 2\\\\\n",
       "\t \\{A,B,C\\}   & 1 & 15 & 3\\\\\n",
       "\t \\{A,B,F\\}   & 1 & 20 & 3\\\\\n",
       "\t \\{A,C,D,F\\} & 1 & 25 & 4\\\\\n",
       "\t \\{A,B,F\\}   & 2 & 15 & 3\\\\\n",
       "\t \\{E\\}       & 2 & 20 & 1\\\\\n",
       "\t \\{A,B,F\\}   & 3 & 10 & 3\\\\\n",
       "\t \\{D,G,H\\}   & 4 & 10 & 3\\\\\n",
       "\t \\{B,F\\}     & 4 & 20 & 2\\\\\n",
       "\t \\{A,G,H\\}   & 4 & 25 & 3\\\\\n",
       "\\end{tabular}\n"
      ],
      "text/markdown": [
       "\n",
       "A data.frame: 10 × 4\n",
       "\n",
       "| items &lt;chr&gt; | sequenceID &lt;int&gt; | eventID &lt;int&gt; | SIZE &lt;int&gt; |\n",
       "|---|---|---|---|\n",
       "| {C,D}     | 1 | 10 | 2 |\n",
       "| {A,B,C}   | 1 | 15 | 3 |\n",
       "| {A,B,F}   | 1 | 20 | 3 |\n",
       "| {A,C,D,F} | 1 | 25 | 4 |\n",
       "| {A,B,F}   | 2 | 15 | 3 |\n",
       "| {E}       | 2 | 20 | 1 |\n",
       "| {A,B,F}   | 3 | 10 | 3 |\n",
       "| {D,G,H}   | 4 | 10 | 3 |\n",
       "| {B,F}     | 4 | 20 | 2 |\n",
       "| {A,G,H}   | 4 | 25 | 3 |\n",
       "\n"
      ],
      "text/plain": [
       "   items     sequenceID eventID SIZE\n",
       "1  {C,D}     1          10      2   \n",
       "2  {A,B,C}   1          15      3   \n",
       "3  {A,B,F}   1          20      3   \n",
       "4  {A,C,D,F} 1          25      4   \n",
       "5  {A,B,F}   2          15      3   \n",
       "6  {E}       2          20      1   \n",
       "7  {A,B,F}   3          10      3   \n",
       "8  {D,G,H}   4          10      3   \n",
       "9  {B,F}     4          20      2   \n",
       "10 {A,G,H}   4          25      3   "
      ]
     },
     "metadata": {},
     "output_type": "display_data"
    }
   ],
   "source": [
    "x <- read_baskets(con = system.file(\"misc\", \"zaki.txt\", package = \"arulesSequences\"), info = c(\"sequenceID\",\"eventID\",\"SIZE\"))\n",
    "as(x, \"data.frame\")\n"
   ]
  },
  {
   "cell_type": "code",
   "execution_count": 24,
   "metadata": {},
   "outputs": [
    {
     "name": "stdout",
     "output_type": "stream",
     "text": [
      "\n",
      "parameter specification:\n",
      "support : 0.4\n",
      "maxsize :  10\n",
      "maxlen  :  10\n",
      "\n",
      "algorithmic control:\n",
      "bfstype  : FALSE\n",
      "verbose  :  TRUE\n",
      "summary  : FALSE\n",
      "tidLists : FALSE\n",
      "\n",
      "preprocessing ... 1 partition(s), 0 MB [0.006s]\n",
      "mining transactions ... 0 MB [0.002s]\n",
      "reading sequences ... [0.006s]\n",
      "\n",
      "total elapsed time: 0.014s\n"
     ]
    },
    {
     "data": {
      "text/html": [
       "<table class=\"dataframe\">\n",
       "<caption>A data.frame: 18 × 2</caption>\n",
       "<thead>\n",
       "\t<tr><th scope=col>sequence</th><th scope=col>support</th></tr>\n",
       "\t<tr><th scope=col>&lt;chr&gt;</th><th scope=col>&lt;dbl&gt;</th></tr>\n",
       "</thead>\n",
       "<tbody>\n",
       "\t<tr><td><span style=white-space:pre-wrap>&lt;{A}&gt;          </span></td><td>1.00</td></tr>\n",
       "\t<tr><td><span style=white-space:pre-wrap>&lt;{B}&gt;          </span></td><td>1.00</td></tr>\n",
       "\t<tr><td><span style=white-space:pre-wrap>&lt;{D}&gt;          </span></td><td>0.50</td></tr>\n",
       "\t<tr><td><span style=white-space:pre-wrap>&lt;{F}&gt;          </span></td><td>1.00</td></tr>\n",
       "\t<tr><td><span style=white-space:pre-wrap>&lt;{A,F}&gt;        </span></td><td>0.75</td></tr>\n",
       "\t<tr><td><span style=white-space:pre-wrap>&lt;{B,F}&gt;        </span></td><td>1.00</td></tr>\n",
       "\t<tr><td><span style=white-space:pre-wrap>&lt;{D},{F}&gt;      </span></td><td>0.50</td></tr>\n",
       "\t<tr><td><span style=white-space:pre-wrap>&lt;{D},{B,F}&gt;    </span></td><td>0.50</td></tr>\n",
       "\t<tr><td><span style=white-space:pre-wrap>&lt;{A,B,F}&gt;      </span></td><td>0.75</td></tr>\n",
       "\t<tr><td><span style=white-space:pre-wrap>&lt;{A,B}&gt;        </span></td><td>0.75</td></tr>\n",
       "\t<tr><td><span style=white-space:pre-wrap>&lt;{D},{B}&gt;      </span></td><td>0.50</td></tr>\n",
       "\t<tr><td><span style=white-space:pre-wrap>&lt;{B},{A}&gt;      </span></td><td>0.50</td></tr>\n",
       "\t<tr><td><span style=white-space:pre-wrap>&lt;{D},{A}&gt;      </span></td><td>0.50</td></tr>\n",
       "\t<tr><td><span style=white-space:pre-wrap>&lt;{F},{A}&gt;      </span></td><td>0.50</td></tr>\n",
       "\t<tr><td><span style=white-space:pre-wrap>&lt;{D},{F},{A}&gt;  </span></td><td>0.50</td></tr>\n",
       "\t<tr><td><span style=white-space:pre-wrap>&lt;{B,F},{A}&gt;    </span></td><td>0.50</td></tr>\n",
       "\t<tr><td>&lt;{D},{B,F},{A}&gt;</td><td>0.50</td></tr>\n",
       "\t<tr><td><span style=white-space:pre-wrap>&lt;{D},{B},{A}&gt;  </span></td><td>0.50</td></tr>\n",
       "</tbody>\n",
       "</table>\n"
      ],
      "text/latex": [
       "A data.frame: 18 × 2\n",
       "\\begin{tabular}{ll}\n",
       " sequence & support\\\\\n",
       " <chr> & <dbl>\\\\\n",
       "\\hline\n",
       "\t <\\{A\\}>           & 1.00\\\\\n",
       "\t <\\{B\\}>           & 1.00\\\\\n",
       "\t <\\{D\\}>           & 0.50\\\\\n",
       "\t <\\{F\\}>           & 1.00\\\\\n",
       "\t <\\{A,F\\}>         & 0.75\\\\\n",
       "\t <\\{B,F\\}>         & 1.00\\\\\n",
       "\t <\\{D\\},\\{F\\}>       & 0.50\\\\\n",
       "\t <\\{D\\},\\{B,F\\}>     & 0.50\\\\\n",
       "\t <\\{A,B,F\\}>       & 0.75\\\\\n",
       "\t <\\{A,B\\}>         & 0.75\\\\\n",
       "\t <\\{D\\},\\{B\\}>       & 0.50\\\\\n",
       "\t <\\{B\\},\\{A\\}>       & 0.50\\\\\n",
       "\t <\\{D\\},\\{A\\}>       & 0.50\\\\\n",
       "\t <\\{F\\},\\{A\\}>       & 0.50\\\\\n",
       "\t <\\{D\\},\\{F\\},\\{A\\}>   & 0.50\\\\\n",
       "\t <\\{B,F\\},\\{A\\}>     & 0.50\\\\\n",
       "\t <\\{D\\},\\{B,F\\},\\{A\\}> & 0.50\\\\\n",
       "\t <\\{D\\},\\{B\\},\\{A\\}>   & 0.50\\\\\n",
       "\\end{tabular}\n"
      ],
      "text/markdown": [
       "\n",
       "A data.frame: 18 × 2\n",
       "\n",
       "| sequence &lt;chr&gt; | support &lt;dbl&gt; |\n",
       "|---|---|\n",
       "| &lt;{A}&gt;           | 1.00 |\n",
       "| &lt;{B}&gt;           | 1.00 |\n",
       "| &lt;{D}&gt;           | 0.50 |\n",
       "| &lt;{F}&gt;           | 1.00 |\n",
       "| &lt;{A,F}&gt;         | 0.75 |\n",
       "| &lt;{B,F}&gt;         | 1.00 |\n",
       "| &lt;{D},{F}&gt;       | 0.50 |\n",
       "| &lt;{D},{B,F}&gt;     | 0.50 |\n",
       "| &lt;{A,B,F}&gt;       | 0.75 |\n",
       "| &lt;{A,B}&gt;         | 0.75 |\n",
       "| &lt;{D},{B}&gt;       | 0.50 |\n",
       "| &lt;{B},{A}&gt;       | 0.50 |\n",
       "| &lt;{D},{A}&gt;       | 0.50 |\n",
       "| &lt;{F},{A}&gt;       | 0.50 |\n",
       "| &lt;{D},{F},{A}&gt;   | 0.50 |\n",
       "| &lt;{B,F},{A}&gt;     | 0.50 |\n",
       "| &lt;{D},{B,F},{A}&gt; | 0.50 |\n",
       "| &lt;{D},{B},{A}&gt;   | 0.50 |\n",
       "\n"
      ],
      "text/plain": [
       "   sequence        support\n",
       "1  <{A}>           1.00   \n",
       "2  <{B}>           1.00   \n",
       "3  <{D}>           0.50   \n",
       "4  <{F}>           1.00   \n",
       "5  <{A,F}>         0.75   \n",
       "6  <{B,F}>         1.00   \n",
       "7  <{D},{F}>       0.50   \n",
       "8  <{D},{B,F}>     0.50   \n",
       "9  <{A,B,F}>       0.75   \n",
       "10 <{A,B}>         0.75   \n",
       "11 <{D},{B}>       0.50   \n",
       "12 <{B},{A}>       0.50   \n",
       "13 <{D},{A}>       0.50   \n",
       "14 <{F},{A}>       0.50   \n",
       "15 <{D},{F},{A}>   0.50   \n",
       "16 <{B,F},{A}>     0.50   \n",
       "17 <{D},{B,F},{A}> 0.50   \n",
       "18 <{D},{B},{A}>   0.50   "
      ]
     },
     "metadata": {},
     "output_type": "display_data"
    }
   ],
   "source": [
    "s1 <- cspade(x, parameter = list(support = 0.4), control = list(verbose = TRUE))\n",
    "as(s1, \"data.frame\")"
   ]
  },
  {
   "cell_type": "code",
   "execution_count": null,
   "metadata": {},
   "outputs": [],
   "source": []
  }
 ],
 "metadata": {
  "kernelspec": {
   "display_name": "R",
   "language": "R",
   "name": "ir"
  },
  "language_info": {
   "codemirror_mode": "r",
   "file_extension": ".r",
   "mimetype": "text/x-r-source",
   "name": "R",
   "pygments_lexer": "r",
   "version": "4.2.3"
  }
 },
 "nbformat": 4,
 "nbformat_minor": 2
}
