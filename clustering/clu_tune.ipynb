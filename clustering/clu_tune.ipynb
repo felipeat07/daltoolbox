{
 "cells": [
  {
   "cell_type": "markdown",
   "id": "7f59c457",
   "metadata": {},
   "source": [
    "# Clustering - Tune Kmeans"
   ]
  },
  {
   "cell_type": "code",
   "execution_count": 1,
   "id": "79802aaf",
   "metadata": {},
   "outputs": [
    {
     "name": "stderr",
     "output_type": "stream",
     "text": [
      "Loading required package: daltoolbox\n",
      "\n",
      "Registered S3 method overwritten by 'quantmod':\n",
      "  method            from\n",
      "  as.zoo.data.frame zoo \n",
      "\n",
      "\n",
      "Attaching package: ‘daltoolbox’\n",
      "\n",
      "\n",
      "The following object is masked from ‘package:base’:\n",
      "\n",
      "    transform\n",
      "\n",
      "\n"
     ]
    }
   ],
   "source": [
    "# DAL ToolBox\n",
    "# version 1.0.747\n",
    "\n",
    "source(\"https://raw.githubusercontent.com/cefet-rj-dal/daltoolbox/main/jupyter.R\")\n",
    "\n",
    "#loading DAL\n",
    "load_library(\"daltoolbox\")  "
   ]
  },
  {
   "cell_type": "code",
   "execution_count": 2,
   "id": "491accc9",
   "metadata": {},
   "outputs": [],
   "source": [
    "data(iris)"
   ]
  },
  {
   "cell_type": "code",
   "execution_count": 3,
   "id": "5a68275b",
   "metadata": {},
   "outputs": [
    {
     "data": {
      "text/html": [
       "6"
      ],
      "text/latex": [
       "6"
      ],
      "text/markdown": [
       "6"
      ],
      "text/plain": [
       "[1] 6"
      ]
     },
     "metadata": {},
     "output_type": "display_data"
    }
   ],
   "source": [
    "# fit model\n",
    "model <- clu_tune(cluster_kmeans(k = 0))\n",
    "ranges <- list(k = 1:10)\n",
    "model <- fit(model, iris[,1:4], ranges)\n",
    "model$k"
   ]
  },
  {
   "cell_type": "code",
   "execution_count": 4,
   "id": "2f978f15",
   "metadata": {},
   "outputs": [
    {
     "data": {
      "text/plain": [
       "clu\n",
       " 1  2  3  4  5  6 \n",
       "32  4 40 33 24 17 "
      ]
     },
     "metadata": {},
     "output_type": "display_data"
    }
   ],
   "source": [
    "# run model\n",
    "clu <- cluster(model, iris[,1:4])\n",
    "table(clu)"
   ]
  },
  {
   "cell_type": "code",
   "execution_count": 5,
   "id": "04422e76",
   "metadata": {},
   "outputs": [
    {
     "data": {
      "text/html": [
       "<dl>\n",
       "\t<dt>$clusters_entropy</dt>\n",
       "\t\t<dd><table class=\"dataframe\">\n",
       "<caption>A tibble: 6 × 4</caption>\n",
       "<thead>\n",
       "\t<tr><th scope=col>x</th><th scope=col>ce</th><th scope=col>qtd</th><th scope=col>ceg</th></tr>\n",
       "\t<tr><th scope=col>&lt;fct&gt;</th><th scope=col>&lt;dbl&gt;</th><th scope=col>&lt;int&gt;</th><th scope=col>&lt;dbl&gt;</th></tr>\n",
       "</thead>\n",
       "<tbody>\n",
       "\t<tr><td>1</td><td>0.0000000</td><td>32</td><td>0.00000000</td></tr>\n",
       "\t<tr><td>2</td><td>0.0000000</td><td> 4</td><td>0.00000000</td></tr>\n",
       "\t<tr><td>3</td><td>0.9837083</td><td>40</td><td>0.26232220</td></tr>\n",
       "\t<tr><td>4</td><td>0.0000000</td><td>33</td><td>0.00000000</td></tr>\n",
       "\t<tr><td>5</td><td>0.2498823</td><td>24</td><td>0.03998117</td></tr>\n",
       "\t<tr><td>6</td><td>0.0000000</td><td>17</td><td>0.00000000</td></tr>\n",
       "</tbody>\n",
       "</table>\n",
       "</dd>\n",
       "\t<dt>$clustering_entropy</dt>\n",
       "\t\t<dd>0.302303370219493</dd>\n",
       "\t<dt>$data_entropy</dt>\n",
       "\t\t<dd>1.58496250072116</dd>\n",
       "</dl>\n"
      ],
      "text/latex": [
       "\\begin{description}\n",
       "\\item[\\$clusters\\_entropy] A tibble: 6 × 4\n",
       "\\begin{tabular}{llll}\n",
       " x & ce & qtd & ceg\\\\\n",
       " <fct> & <dbl> & <int> & <dbl>\\\\\n",
       "\\hline\n",
       "\t 1 & 0.0000000 & 32 & 0.00000000\\\\\n",
       "\t 2 & 0.0000000 &  4 & 0.00000000\\\\\n",
       "\t 3 & 0.9837083 & 40 & 0.26232220\\\\\n",
       "\t 4 & 0.0000000 & 33 & 0.00000000\\\\\n",
       "\t 5 & 0.2498823 & 24 & 0.03998117\\\\\n",
       "\t 6 & 0.0000000 & 17 & 0.00000000\\\\\n",
       "\\end{tabular}\n",
       "\n",
       "\\item[\\$clustering\\_entropy] 0.302303370219493\n",
       "\\item[\\$data\\_entropy] 1.58496250072116\n",
       "\\end{description}\n"
      ],
      "text/markdown": [
       "$clusters_entropy\n",
       ":   \n",
       "A tibble: 6 × 4\n",
       "\n",
       "| x &lt;fct&gt; | ce &lt;dbl&gt; | qtd &lt;int&gt; | ceg &lt;dbl&gt; |\n",
       "|---|---|---|---|\n",
       "| 1 | 0.0000000 | 32 | 0.00000000 |\n",
       "| 2 | 0.0000000 |  4 | 0.00000000 |\n",
       "| 3 | 0.9837083 | 40 | 0.26232220 |\n",
       "| 4 | 0.0000000 | 33 | 0.00000000 |\n",
       "| 5 | 0.2498823 | 24 | 0.03998117 |\n",
       "| 6 | 0.0000000 | 17 | 0.00000000 |\n",
       "\n",
       "\n",
       "$clustering_entropy\n",
       ":   0.302303370219493\n",
       "$data_entropy\n",
       ":   1.58496250072116\n",
       "\n",
       "\n"
      ],
      "text/plain": [
       "$clusters_entropy\n",
       "\u001b[90m# A tibble: 6 × 4\u001b[39m\n",
       "  x        ce   qtd    ceg\n",
       "  \u001b[3m\u001b[90m<fct>\u001b[39m\u001b[23m \u001b[3m\u001b[90m<dbl>\u001b[39m\u001b[23m \u001b[3m\u001b[90m<int>\u001b[39m\u001b[23m  \u001b[3m\u001b[90m<dbl>\u001b[39m\u001b[23m\n",
       "\u001b[90m1\u001b[39m 1     0        32 0     \n",
       "\u001b[90m2\u001b[39m 2     0         4 0     \n",
       "\u001b[90m3\u001b[39m 3     0.984    40 0.262 \n",
       "\u001b[90m4\u001b[39m 4     0        33 0     \n",
       "\u001b[90m5\u001b[39m 5     0.250    24 0.040\u001b[4m0\u001b[24m\n",
       "\u001b[90m6\u001b[39m 6     0        17 0     \n",
       "\n",
       "$clustering_entropy\n",
       "[1] 0.3023034\n",
       "\n",
       "$data_entropy\n",
       "[1] 1.584963\n"
      ]
     },
     "metadata": {},
     "output_type": "display_data"
    }
   ],
   "source": [
    "# evaluate model using external metric\n",
    "eval <- evaluate(model, clu, iris$Species)\n",
    "eval"
   ]
  }
 ],
 "metadata": {
  "kernelspec": {
   "display_name": "R",
   "language": "R",
   "name": "ir"
  },
  "language_info": {
   "codemirror_mode": "r",
   "file_extension": ".r",
   "mimetype": "text/x-r-source",
   "name": "R",
   "pygments_lexer": "r",
   "version": "4.3.1"
  }
 },
 "nbformat": 4,
 "nbformat_minor": 5
}
